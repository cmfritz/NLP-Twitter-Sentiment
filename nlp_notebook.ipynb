{
 "cells": [
  {
   "cell_type": "markdown",
   "metadata": {},
   "source": [
    "## Project 4 - NLP with Twitter Sentiments"
   ]
  },
  {
   "cell_type": "code",
   "execution_count": 1,
   "metadata": {},
   "outputs": [],
   "source": [
    "import pandas as pd\n",
    "import numpy as np\n",
    "import string\n",
    "import re\n",
    "\n",
    "from nltk.corpus import stopwords\n",
    "from nltk import FreqDist, word_tokenize\n",
    "from nltk.tokenize import TweetTokenizer\n",
    "from nltk.stem import WordNetLemmatizer \n",
    "from nltk import FreqDist\n",
    "\n",
    "from matplotlib import pyplot as plt\n",
    "import seaborn as sns"
   ]
  },
  {
   "cell_type": "markdown",
   "metadata": {},
   "source": [
    "## Text Preprocessing\n",
    "\n",
    "Before modeling, the text needs to be cleaned and processed so that it is suitable for modeling. I'll take out undesired characters and rows from the data, tokenize, and then ultimately vectorize the text."
   ]
  },
  {
   "cell_type": "code",
   "execution_count": 2,
   "metadata": {},
   "outputs": [
    {
     "data": {
      "text/html": [
       "<div>\n",
       "<style scoped>\n",
       "    .dataframe tbody tr th:only-of-type {\n",
       "        vertical-align: middle;\n",
       "    }\n",
       "\n",
       "    .dataframe tbody tr th {\n",
       "        vertical-align: top;\n",
       "    }\n",
       "\n",
       "    .dataframe thead th {\n",
       "        text-align: right;\n",
       "    }\n",
       "</style>\n",
       "<table border=\"1\" class=\"dataframe\">\n",
       "  <thead>\n",
       "    <tr style=\"text-align: right;\">\n",
       "      <th></th>\n",
       "      <th>tweet_text</th>\n",
       "      <th>emotion_in_tweet_is_directed_at</th>\n",
       "      <th>is_there_an_emotion_directed_at_a_brand_or_product</th>\n",
       "    </tr>\n",
       "  </thead>\n",
       "  <tbody>\n",
       "    <tr>\n",
       "      <th>0</th>\n",
       "      <td>.@wesley83 I have a 3G iPhone. After 3 hrs twe...</td>\n",
       "      <td>iPhone</td>\n",
       "      <td>Negative emotion</td>\n",
       "    </tr>\n",
       "    <tr>\n",
       "      <th>1</th>\n",
       "      <td>@jessedee Know about @fludapp ? Awesome iPad/i...</td>\n",
       "      <td>iPad or iPhone App</td>\n",
       "      <td>Positive emotion</td>\n",
       "    </tr>\n",
       "    <tr>\n",
       "      <th>2</th>\n",
       "      <td>@swonderlin Can not wait for #iPad 2 also. The...</td>\n",
       "      <td>iPad</td>\n",
       "      <td>Positive emotion</td>\n",
       "    </tr>\n",
       "    <tr>\n",
       "      <th>3</th>\n",
       "      <td>@sxsw I hope this year's festival isn't as cra...</td>\n",
       "      <td>iPad or iPhone App</td>\n",
       "      <td>Negative emotion</td>\n",
       "    </tr>\n",
       "    <tr>\n",
       "      <th>4</th>\n",
       "      <td>@sxtxstate great stuff on Fri #SXSW: Marissa M...</td>\n",
       "      <td>Google</td>\n",
       "      <td>Positive emotion</td>\n",
       "    </tr>\n",
       "    <tr>\n",
       "      <th>...</th>\n",
       "      <td>...</td>\n",
       "      <td>...</td>\n",
       "      <td>...</td>\n",
       "    </tr>\n",
       "    <tr>\n",
       "      <th>9088</th>\n",
       "      <td>Ipad everywhere. #SXSW {link}</td>\n",
       "      <td>iPad</td>\n",
       "      <td>Positive emotion</td>\n",
       "    </tr>\n",
       "    <tr>\n",
       "      <th>9089</th>\n",
       "      <td>Wave, buzz... RT @mention We interrupt your re...</td>\n",
       "      <td>NaN</td>\n",
       "      <td>No emotion toward brand or product</td>\n",
       "    </tr>\n",
       "    <tr>\n",
       "      <th>9090</th>\n",
       "      <td>Google's Zeiger, a physician never reported po...</td>\n",
       "      <td>NaN</td>\n",
       "      <td>No emotion toward brand or product</td>\n",
       "    </tr>\n",
       "    <tr>\n",
       "      <th>9091</th>\n",
       "      <td>Some Verizon iPhone customers complained their...</td>\n",
       "      <td>NaN</td>\n",
       "      <td>No emotion toward brand or product</td>\n",
       "    </tr>\n",
       "    <tr>\n",
       "      <th>9092</th>\n",
       "      <td>ŒÏ¡ŽÏàŠü_‹Ê‹Î‹Ò‹£‹Á‹ââ‹_‹£‹‹â_‹ÛâRT @...</td>\n",
       "      <td>NaN</td>\n",
       "      <td>No emotion toward brand or product</td>\n",
       "    </tr>\n",
       "  </tbody>\n",
       "</table>\n",
       "<p>9093 rows × 3 columns</p>\n",
       "</div>"
      ],
      "text/plain": [
       "                                             tweet_text  \\\n",
       "0     .@wesley83 I have a 3G iPhone. After 3 hrs twe...   \n",
       "1     @jessedee Know about @fludapp ? Awesome iPad/i...   \n",
       "2     @swonderlin Can not wait for #iPad 2 also. The...   \n",
       "3     @sxsw I hope this year's festival isn't as cra...   \n",
       "4     @sxtxstate great stuff on Fri #SXSW: Marissa M...   \n",
       "...                                                 ...   \n",
       "9088                      Ipad everywhere. #SXSW {link}   \n",
       "9089  Wave, buzz... RT @mention We interrupt your re...   \n",
       "9090  Google's Zeiger, a physician never reported po...   \n",
       "9091  Some Verizon iPhone customers complained their...   \n",
       "9092  ŒÏ¡ŽÏàŠü_‹Ê‹Î‹Ò‹£‹Á‹ââ‹_‹£‹‹â_‹ÛâRT @...   \n",
       "\n",
       "     emotion_in_tweet_is_directed_at  \\\n",
       "0                             iPhone   \n",
       "1                 iPad or iPhone App   \n",
       "2                               iPad   \n",
       "3                 iPad or iPhone App   \n",
       "4                             Google   \n",
       "...                              ...   \n",
       "9088                            iPad   \n",
       "9089                             NaN   \n",
       "9090                             NaN   \n",
       "9091                             NaN   \n",
       "9092                             NaN   \n",
       "\n",
       "     is_there_an_emotion_directed_at_a_brand_or_product  \n",
       "0                                      Negative emotion  \n",
       "1                                      Positive emotion  \n",
       "2                                      Positive emotion  \n",
       "3                                      Negative emotion  \n",
       "4                                      Positive emotion  \n",
       "...                                                 ...  \n",
       "9088                                   Positive emotion  \n",
       "9089                 No emotion toward brand or product  \n",
       "9090                 No emotion toward brand or product  \n",
       "9091                 No emotion toward brand or product  \n",
       "9092                 No emotion toward brand or product  \n",
       "\n",
       "[9093 rows x 3 columns]"
      ]
     },
     "execution_count": 2,
     "metadata": {},
     "output_type": "execute_result"
    }
   ],
   "source": [
    "# Load data and take a first look\n",
    "data = pd.read_csv('data/judge-1377884607_tweet_product_company.csv', \n",
    "                   encoding='ansi')\n",
    "df = pd.DataFrame(data)\n",
    "df"
   ]
  },
  {
   "cell_type": "code",
   "execution_count": 3,
   "metadata": {},
   "outputs": [
    {
     "name": "stdout",
     "output_type": "stream",
     "text": [
      "<class 'pandas.core.frame.DataFrame'>\n",
      "RangeIndex: 9093 entries, 0 to 9092\n",
      "Data columns (total 3 columns):\n",
      "tweet_text    9092 non-null object\n",
      "subject       3291 non-null object\n",
      "sentiment     9093 non-null object\n",
      "dtypes: object(3)\n",
      "memory usage: 213.2+ KB\n"
     ]
    }
   ],
   "source": [
    "# rename columns to shorter names and look at info\n",
    "df = df.rename(columns={'emotion_in_tweet_is_directed_at':'subject',\n",
    "                        'is_there_an_emotion_directed_at_a_brand_or_product':'sentiment'})\n",
    "df.info()"
   ]
  },
  {
   "cell_type": "code",
   "execution_count": 4,
   "metadata": {},
   "outputs": [
    {
     "data": {
      "text/plain": [
       "['No emotion toward brand or product',\n",
       " 'Positive emotion',\n",
       " 'Negative emotion',\n",
       " \"I can't tell\"]"
      ]
     },
     "execution_count": 4,
     "metadata": {},
     "output_type": "execute_result"
    }
   ],
   "source": [
    "# get a list of the sentiment categories\n",
    "sentiments = list(set(df['sentiment']))\n",
    "sentiments"
   ]
  },
  {
   "cell_type": "code",
   "execution_count": 5,
   "metadata": {},
   "outputs": [],
   "source": [
    "# rename the categories to simpler labels\n",
    "df['sentiment'] = df['sentiment'].replace(to_replace='Positive emotion', value ='positive')\n",
    "df['sentiment'] = df['sentiment'].replace(to_replace='Negative emotion', value ='negative')\n",
    "df['sentiment'] = df['sentiment'].replace(to_replace='''I can't tell''', value ='unknown')\n",
    "df['sentiment'] = df['sentiment'].replace(to_replace='No emotion toward brand or product', value ='neutral')"
   ]
  },
  {
   "cell_type": "code",
   "execution_count": 6,
   "metadata": {},
   "outputs": [
    {
     "name": "stdout",
     "output_type": "stream",
     "text": [
      "<class 'pandas.core.frame.DataFrame'>\n",
      "Int64Index: 9092 entries, 0 to 9092\n",
      "Data columns (total 3 columns):\n",
      "tweet_text    9092 non-null object\n",
      "subject       9092 non-null object\n",
      "sentiment     9092 non-null object\n",
      "dtypes: object(3)\n",
      "memory usage: 284.1+ KB\n"
     ]
    }
   ],
   "source": [
    "# drop rows without tweet text and fill renaming nan values with 'none'\n",
    "df = df.dropna(subset=['tweet_text'])\n",
    "df = df.fillna('none')\n",
    "df.info()"
   ]
  },
  {
   "cell_type": "code",
   "execution_count": 7,
   "metadata": {},
   "outputs": [],
   "source": [
    "# function to preprocess single-column dataframe and return a list of the cleaned text\n",
    "def preprocess(df):\n",
    "    acceptable = re.compile('[a-zA-Z @]') # regex expression to keep letters and handles\n",
    "\n",
    "    # make a list of the text that fits with regex above\n",
    "    cleanedtext = []\n",
    "    for text in df:\n",
    "        p = ''.join(acceptable.findall(text)).lower()\n",
    "        cleanedtext.append(p)\n",
    "    \n",
    "    return cleanedtext"
   ]
  },
  {
   "cell_type": "code",
   "execution_count": 8,
   "metadata": {},
   "outputs": [
    {
     "data": {
      "text/html": [
       "<div>\n",
       "<style scoped>\n",
       "    .dataframe tbody tr th:only-of-type {\n",
       "        vertical-align: middle;\n",
       "    }\n",
       "\n",
       "    .dataframe tbody tr th {\n",
       "        vertical-align: top;\n",
       "    }\n",
       "\n",
       "    .dataframe thead th {\n",
       "        text-align: right;\n",
       "    }\n",
       "</style>\n",
       "<table border=\"1\" class=\"dataframe\">\n",
       "  <thead>\n",
       "    <tr style=\"text-align: right;\">\n",
       "      <th></th>\n",
       "      <th>tweet_text</th>\n",
       "      <th>subject</th>\n",
       "      <th>sentiment</th>\n",
       "      <th>cleaned_text</th>\n",
       "    </tr>\n",
       "  </thead>\n",
       "  <tbody>\n",
       "    <tr>\n",
       "      <th>0</th>\n",
       "      <td>.@wesley83 I have a 3G iPhone. After 3 hrs twe...</td>\n",
       "      <td>iPhone</td>\n",
       "      <td>negative</td>\n",
       "      <td>@wesley i have a g iphone after  hrs tweeting ...</td>\n",
       "    </tr>\n",
       "    <tr>\n",
       "      <th>1</th>\n",
       "      <td>@jessedee Know about @fludapp ? Awesome iPad/i...</td>\n",
       "      <td>iPad or iPhone App</td>\n",
       "      <td>positive</td>\n",
       "      <td>@jessedee know about @fludapp  awesome ipadiph...</td>\n",
       "    </tr>\n",
       "    <tr>\n",
       "      <th>2</th>\n",
       "      <td>@swonderlin Can not wait for #iPad 2 also. The...</td>\n",
       "      <td>iPad</td>\n",
       "      <td>positive</td>\n",
       "      <td>@swonderlin can not wait for ipad  also they s...</td>\n",
       "    </tr>\n",
       "    <tr>\n",
       "      <th>3</th>\n",
       "      <td>@sxsw I hope this year's festival isn't as cra...</td>\n",
       "      <td>iPad or iPhone App</td>\n",
       "      <td>negative</td>\n",
       "      <td>@sxsw i hope this years festival isnt as crash...</td>\n",
       "    </tr>\n",
       "    <tr>\n",
       "      <th>4</th>\n",
       "      <td>@sxtxstate great stuff on Fri #SXSW: Marissa M...</td>\n",
       "      <td>Google</td>\n",
       "      <td>positive</td>\n",
       "      <td>@sxtxstate great stuff on fri sxsw marissa may...</td>\n",
       "    </tr>\n",
       "    <tr>\n",
       "      <th>...</th>\n",
       "      <td>...</td>\n",
       "      <td>...</td>\n",
       "      <td>...</td>\n",
       "      <td>...</td>\n",
       "    </tr>\n",
       "    <tr>\n",
       "      <th>9088</th>\n",
       "      <td>Ipad everywhere. #SXSW {link}</td>\n",
       "      <td>iPad</td>\n",
       "      <td>positive</td>\n",
       "      <td>ipad everywhere sxsw link</td>\n",
       "    </tr>\n",
       "    <tr>\n",
       "      <th>9089</th>\n",
       "      <td>Wave, buzz... RT @mention We interrupt your re...</td>\n",
       "      <td>none</td>\n",
       "      <td>neutral</td>\n",
       "      <td>wave buzz rt @mention we interrupt your regula...</td>\n",
       "    </tr>\n",
       "    <tr>\n",
       "      <th>9090</th>\n",
       "      <td>Google's Zeiger, a physician never reported po...</td>\n",
       "      <td>none</td>\n",
       "      <td>neutral</td>\n",
       "      <td>googles zeiger a physician never reported pote...</td>\n",
       "    </tr>\n",
       "    <tr>\n",
       "      <th>9091</th>\n",
       "      <td>Some Verizon iPhone customers complained their...</td>\n",
       "      <td>none</td>\n",
       "      <td>neutral</td>\n",
       "      <td>some verizon iphone customers complained their...</td>\n",
       "    </tr>\n",
       "    <tr>\n",
       "      <th>9092</th>\n",
       "      <td>ŒÏ¡ŽÏàŠü_‹Ê‹Î‹Ò‹£‹Á‹ââ‹_‹£‹‹â_‹ÛâRT @...</td>\n",
       "      <td>none</td>\n",
       "      <td>neutral</td>\n",
       "      <td>rt @mention google tests checkin offers at sxs...</td>\n",
       "    </tr>\n",
       "  </tbody>\n",
       "</table>\n",
       "<p>9092 rows × 4 columns</p>\n",
       "</div>"
      ],
      "text/plain": [
       "                                             tweet_text             subject  \\\n",
       "0     .@wesley83 I have a 3G iPhone. After 3 hrs twe...              iPhone   \n",
       "1     @jessedee Know about @fludapp ? Awesome iPad/i...  iPad or iPhone App   \n",
       "2     @swonderlin Can not wait for #iPad 2 also. The...                iPad   \n",
       "3     @sxsw I hope this year's festival isn't as cra...  iPad or iPhone App   \n",
       "4     @sxtxstate great stuff on Fri #SXSW: Marissa M...              Google   \n",
       "...                                                 ...                 ...   \n",
       "9088                      Ipad everywhere. #SXSW {link}                iPad   \n",
       "9089  Wave, buzz... RT @mention We interrupt your re...                none   \n",
       "9090  Google's Zeiger, a physician never reported po...                none   \n",
       "9091  Some Verizon iPhone customers complained their...                none   \n",
       "9092  ŒÏ¡ŽÏàŠü_‹Ê‹Î‹Ò‹£‹Á‹ââ‹_‹£‹‹â_‹ÛâRT @...                none   \n",
       "\n",
       "     sentiment                                       cleaned_text  \n",
       "0     negative  @wesley i have a g iphone after  hrs tweeting ...  \n",
       "1     positive  @jessedee know about @fludapp  awesome ipadiph...  \n",
       "2     positive  @swonderlin can not wait for ipad  also they s...  \n",
       "3     negative  @sxsw i hope this years festival isnt as crash...  \n",
       "4     positive  @sxtxstate great stuff on fri sxsw marissa may...  \n",
       "...        ...                                                ...  \n",
       "9088  positive                          ipad everywhere sxsw link  \n",
       "9089   neutral  wave buzz rt @mention we interrupt your regula...  \n",
       "9090   neutral  googles zeiger a physician never reported pote...  \n",
       "9091   neutral  some verizon iphone customers complained their...  \n",
       "9092   neutral  rt @mention google tests checkin offers at sxs...  \n",
       "\n",
       "[9092 rows x 4 columns]"
      ]
     },
     "execution_count": 8,
     "metadata": {},
     "output_type": "execute_result"
    }
   ],
   "source": [
    "# make a n ew column of the clean text\n",
    "df['cleaned_text'] = preprocess(df['tweet_text'])\n",
    "df"
   ]
  },
  {
   "cell_type": "code",
   "execution_count": 9,
   "metadata": {},
   "outputs": [
    {
     "data": {
      "image/png": "[encoded data removed]",
      "text/plain": [
       "<Figure size 432x288 with 1 Axes>"
      ]
     },
     "metadata": {
      "needs_background": "light"
     },
     "output_type": "display_data"
    }
   ],
   "source": [
    "# Look at the counts for each category\n",
    "ax = sns.countplot(x='sentiment', data=df)"
   ]
  },
  {
   "cell_type": "code",
   "execution_count": 10,
   "metadata": {},
   "outputs": [],
   "source": [
    "# drop unknown sentiments\n",
    "df = df[df['sentiment'] != 'unknown']"
   ]
  },
  {
   "cell_type": "code",
   "execution_count": 11,
   "metadata": {},
   "outputs": [
    {
     "name": "stderr",
     "output_type": "stream",
     "text": [
      "C:\\Users\\cm_fr\\anaconda3\\envs\\learn-env\\lib\\site-packages\\ipykernel_launcher.py:3: SettingWithCopyWarning: \n",
      "A value is trying to be set on a copy of a slice from a DataFrame.\n",
      "Try using .loc[row_indexer,col_indexer] = value instead\n",
      "\n",
      "See the caveats in the documentation: http://pandas.pydata.org/pandas-docs/stable/user_guide/indexing.html#returning-a-view-versus-a-copy\n",
      "  This is separate from the ipykernel package so we can avoid doing imports until\n"
     ]
    }
   ],
   "source": [
    "# tokenize the tweet text\n",
    "tt = TweetTokenizer(strip_handles=True, reduce_len=True, preserve_case=False)\n",
    "df['tokenized_text'] = df['cleaned_text'].apply(tt.tokenize)"
   ]
  },
  {
   "cell_type": "code",
   "execution_count": 12,
   "metadata": {
    "scrolled": true
   },
   "outputs": [
    {
     "data": {
      "text/html": [
       "<div>\n",
       "<style scoped>\n",
       "    .dataframe tbody tr th:only-of-type {\n",
       "        vertical-align: middle;\n",
       "    }\n",
       "\n",
       "    .dataframe tbody tr th {\n",
       "        vertical-align: top;\n",
       "    }\n",
       "\n",
       "    .dataframe thead th {\n",
       "        text-align: right;\n",
       "    }\n",
       "</style>\n",
       "<table border=\"1\" class=\"dataframe\">\n",
       "  <thead>\n",
       "    <tr style=\"text-align: right;\">\n",
       "      <th></th>\n",
       "      <th>tweet_text</th>\n",
       "      <th>subject</th>\n",
       "      <th>sentiment</th>\n",
       "      <th>cleaned_text</th>\n",
       "      <th>tokenized_text</th>\n",
       "    </tr>\n",
       "  </thead>\n",
       "  <tbody>\n",
       "    <tr>\n",
       "      <th>0</th>\n",
       "      <td>.@wesley83 I have a 3G iPhone. After 3 hrs twe...</td>\n",
       "      <td>iPhone</td>\n",
       "      <td>negative</td>\n",
       "      <td>@wesley i have a g iphone after  hrs tweeting ...</td>\n",
       "      <td>[i, have, a, g, iphone, after, hrs, tweeting, ...</td>\n",
       "    </tr>\n",
       "    <tr>\n",
       "      <th>1</th>\n",
       "      <td>@jessedee Know about @fludapp ? Awesome iPad/i...</td>\n",
       "      <td>iPad or iPhone App</td>\n",
       "      <td>positive</td>\n",
       "      <td>@jessedee know about @fludapp  awesome ipadiph...</td>\n",
       "      <td>[know, about, awesome, ipadiphone, app, that, ...</td>\n",
       "    </tr>\n",
       "    <tr>\n",
       "      <th>2</th>\n",
       "      <td>@swonderlin Can not wait for #iPad 2 also. The...</td>\n",
       "      <td>iPad</td>\n",
       "      <td>positive</td>\n",
       "      <td>@swonderlin can not wait for ipad  also they s...</td>\n",
       "      <td>[can, not, wait, for, ipad, also, they, should...</td>\n",
       "    </tr>\n",
       "    <tr>\n",
       "      <th>3</th>\n",
       "      <td>@sxsw I hope this year's festival isn't as cra...</td>\n",
       "      <td>iPad or iPhone App</td>\n",
       "      <td>negative</td>\n",
       "      <td>@sxsw i hope this years festival isnt as crash...</td>\n",
       "      <td>[i, hope, this, years, festival, isnt, as, cra...</td>\n",
       "    </tr>\n",
       "    <tr>\n",
       "      <th>4</th>\n",
       "      <td>@sxtxstate great stuff on Fri #SXSW: Marissa M...</td>\n",
       "      <td>Google</td>\n",
       "      <td>positive</td>\n",
       "      <td>@sxtxstate great stuff on fri sxsw marissa may...</td>\n",
       "      <td>[great, stuff, on, fri, sxsw, marissa, mayer, ...</td>\n",
       "    </tr>\n",
       "    <tr>\n",
       "      <th>...</th>\n",
       "      <td>...</td>\n",
       "      <td>...</td>\n",
       "      <td>...</td>\n",
       "      <td>...</td>\n",
       "      <td>...</td>\n",
       "    </tr>\n",
       "    <tr>\n",
       "      <th>8931</th>\n",
       "      <td>Ipad everywhere. #SXSW {link}</td>\n",
       "      <td>iPad</td>\n",
       "      <td>positive</td>\n",
       "      <td>ipad everywhere sxsw link</td>\n",
       "      <td>[ipad, everywhere, sxsw, link]</td>\n",
       "    </tr>\n",
       "    <tr>\n",
       "      <th>8932</th>\n",
       "      <td>Wave, buzz... RT @mention We interrupt your re...</td>\n",
       "      <td>none</td>\n",
       "      <td>neutral</td>\n",
       "      <td>wave buzz rt @mention we interrupt your regula...</td>\n",
       "      <td>[wave, buzz, rt, we, interrupt, your, regularl...</td>\n",
       "    </tr>\n",
       "    <tr>\n",
       "      <th>8933</th>\n",
       "      <td>Google's Zeiger, a physician never reported po...</td>\n",
       "      <td>none</td>\n",
       "      <td>neutral</td>\n",
       "      <td>googles zeiger a physician never reported pote...</td>\n",
       "      <td>[googles, zeiger, a, physician, never, reporte...</td>\n",
       "    </tr>\n",
       "    <tr>\n",
       "      <th>8934</th>\n",
       "      <td>Some Verizon iPhone customers complained their...</td>\n",
       "      <td>none</td>\n",
       "      <td>neutral</td>\n",
       "      <td>some verizon iphone customers complained their...</td>\n",
       "      <td>[some, verizon, iphone, customers, complained,...</td>\n",
       "    </tr>\n",
       "    <tr>\n",
       "      <th>8935</th>\n",
       "      <td>ŒÏ¡ŽÏàŠü_‹Ê‹Î‹Ò‹£‹Á‹ââ‹_‹£‹‹â_‹ÛâRT @...</td>\n",
       "      <td>none</td>\n",
       "      <td>neutral</td>\n",
       "      <td>rt @mention google tests checkin offers at sxs...</td>\n",
       "      <td>[rt, google, tests, checkin, offers, at, sxsw,...</td>\n",
       "    </tr>\n",
       "  </tbody>\n",
       "</table>\n",
       "<p>8936 rows × 5 columns</p>\n",
       "</div>"
      ],
      "text/plain": [
       "                                             tweet_text             subject  \\\n",
       "0     .@wesley83 I have a 3G iPhone. After 3 hrs twe...              iPhone   \n",
       "1     @jessedee Know about @fludapp ? Awesome iPad/i...  iPad or iPhone App   \n",
       "2     @swonderlin Can not wait for #iPad 2 also. The...                iPad   \n",
       "3     @sxsw I hope this year's festival isn't as cra...  iPad or iPhone App   \n",
       "4     @sxtxstate great stuff on Fri #SXSW: Marissa M...              Google   \n",
       "...                                                 ...                 ...   \n",
       "8931                      Ipad everywhere. #SXSW {link}                iPad   \n",
       "8932  Wave, buzz... RT @mention We interrupt your re...                none   \n",
       "8933  Google's Zeiger, a physician never reported po...                none   \n",
       "8934  Some Verizon iPhone customers complained their...                none   \n",
       "8935  ŒÏ¡ŽÏàŠü_‹Ê‹Î‹Ò‹£‹Á‹ââ‹_‹£‹‹â_‹ÛâRT @...                none   \n",
       "\n",
       "     sentiment                                       cleaned_text  \\\n",
       "0     negative  @wesley i have a g iphone after  hrs tweeting ...   \n",
       "1     positive  @jessedee know about @fludapp  awesome ipadiph...   \n",
       "2     positive  @swonderlin can not wait for ipad  also they s...   \n",
       "3     negative  @sxsw i hope this years festival isnt as crash...   \n",
       "4     positive  @sxtxstate great stuff on fri sxsw marissa may...   \n",
       "...        ...                                                ...   \n",
       "8931  positive                          ipad everywhere sxsw link   \n",
       "8932   neutral  wave buzz rt @mention we interrupt your regula...   \n",
       "8933   neutral  googles zeiger a physician never reported pote...   \n",
       "8934   neutral  some verizon iphone customers complained their...   \n",
       "8935   neutral  rt @mention google tests checkin offers at sxs...   \n",
       "\n",
       "                                         tokenized_text  \n",
       "0     [i, have, a, g, iphone, after, hrs, tweeting, ...  \n",
       "1     [know, about, awesome, ipadiphone, app, that, ...  \n",
       "2     [can, not, wait, for, ipad, also, they, should...  \n",
       "3     [i, hope, this, years, festival, isnt, as, cra...  \n",
       "4     [great, stuff, on, fri, sxsw, marissa, mayer, ...  \n",
       "...                                                 ...  \n",
       "8931                     [ipad, everywhere, sxsw, link]  \n",
       "8932  [wave, buzz, rt, we, interrupt, your, regularl...  \n",
       "8933  [googles, zeiger, a, physician, never, reporte...  \n",
       "8934  [some, verizon, iphone, customers, complained,...  \n",
       "8935  [rt, google, tests, checkin, offers, at, sxsw,...  \n",
       "\n",
       "[8936 rows x 5 columns]"
      ]
     },
     "execution_count": 12,
     "metadata": {},
     "output_type": "execute_result"
    }
   ],
   "source": [
    "# reset the index and review tokenized text\n",
    "df = df.reset_index(drop=True)\n",
    "df"
   ]
  },
  {
   "cell_type": "code",
   "execution_count": 13,
   "metadata": {},
   "outputs": [],
   "source": [
    "# input tokenized df and list of words to remove, return the cleaned list\n",
    "def remove_words(df, to_remove):\n",
    "    cleaned = []\n",
    "    for text in df:\n",
    "        cleaned.append([w for w in text if w not in to_remove])\n",
    "    return cleaned"
   ]
  },
  {
   "cell_type": "code",
   "execution_count": 14,
   "metadata": {},
   "outputs": [],
   "source": [
    "# remove English language stopwords and add revisions to new column\n",
    "stopwords_list = stopwords.words('english')\n",
    "df['stopped_tokens'] = remove_words(df['tokenized_text'], stopwords_list)"
   ]
  },
  {
   "cell_type": "code",
   "execution_count": 15,
   "metadata": {},
   "outputs": [
    {
     "data": {
      "text/html": [
       "<div>\n",
       "<style scoped>\n",
       "    .dataframe tbody tr th:only-of-type {\n",
       "        vertical-align: middle;\n",
       "    }\n",
       "\n",
       "    .dataframe tbody tr th {\n",
       "        vertical-align: top;\n",
       "    }\n",
       "\n",
       "    .dataframe thead th {\n",
       "        text-align: right;\n",
       "    }\n",
       "</style>\n",
       "<table border=\"1\" class=\"dataframe\">\n",
       "  <thead>\n",
       "    <tr style=\"text-align: right;\">\n",
       "      <th></th>\n",
       "      <th>tweet_text</th>\n",
       "      <th>subject</th>\n",
       "      <th>sentiment</th>\n",
       "      <th>cleaned_text</th>\n",
       "      <th>tokenized_text</th>\n",
       "      <th>stopped_tokens</th>\n",
       "    </tr>\n",
       "  </thead>\n",
       "  <tbody>\n",
       "    <tr>\n",
       "      <th>0</th>\n",
       "      <td>.@wesley83 I have a 3G iPhone. After 3 hrs twe...</td>\n",
       "      <td>iPhone</td>\n",
       "      <td>negative</td>\n",
       "      <td>@wesley i have a g iphone after  hrs tweeting ...</td>\n",
       "      <td>[i, have, a, g, iphone, after, hrs, tweeting, ...</td>\n",
       "      <td>[g, iphone, hrs, tweeting, riseaustin, dead, n...</td>\n",
       "    </tr>\n",
       "    <tr>\n",
       "      <th>1</th>\n",
       "      <td>@jessedee Know about @fludapp ? Awesome iPad/i...</td>\n",
       "      <td>iPad or iPhone App</td>\n",
       "      <td>positive</td>\n",
       "      <td>@jessedee know about @fludapp  awesome ipadiph...</td>\n",
       "      <td>[know, about, awesome, ipadiphone, app, that, ...</td>\n",
       "      <td>[know, awesome, ipadiphone, app, youll, likely...</td>\n",
       "    </tr>\n",
       "    <tr>\n",
       "      <th>2</th>\n",
       "      <td>@swonderlin Can not wait for #iPad 2 also. The...</td>\n",
       "      <td>iPad</td>\n",
       "      <td>positive</td>\n",
       "      <td>@swonderlin can not wait for ipad  also they s...</td>\n",
       "      <td>[can, not, wait, for, ipad, also, they, should...</td>\n",
       "      <td>[wait, ipad, also, sale, sxsw]</td>\n",
       "    </tr>\n",
       "    <tr>\n",
       "      <th>3</th>\n",
       "      <td>@sxsw I hope this year's festival isn't as cra...</td>\n",
       "      <td>iPad or iPhone App</td>\n",
       "      <td>negative</td>\n",
       "      <td>@sxsw i hope this years festival isnt as crash...</td>\n",
       "      <td>[i, hope, this, years, festival, isnt, as, cra...</td>\n",
       "      <td>[hope, years, festival, isnt, crashy, years, i...</td>\n",
       "    </tr>\n",
       "    <tr>\n",
       "      <th>4</th>\n",
       "      <td>@sxtxstate great stuff on Fri #SXSW: Marissa M...</td>\n",
       "      <td>Google</td>\n",
       "      <td>positive</td>\n",
       "      <td>@sxtxstate great stuff on fri sxsw marissa may...</td>\n",
       "      <td>[great, stuff, on, fri, sxsw, marissa, mayer, ...</td>\n",
       "      <td>[great, stuff, fri, sxsw, marissa, mayer, goog...</td>\n",
       "    </tr>\n",
       "  </tbody>\n",
       "</table>\n",
       "</div>"
      ],
      "text/plain": [
       "                                          tweet_text             subject  \\\n",
       "0  .@wesley83 I have a 3G iPhone. After 3 hrs twe...              iPhone   \n",
       "1  @jessedee Know about @fludapp ? Awesome iPad/i...  iPad or iPhone App   \n",
       "2  @swonderlin Can not wait for #iPad 2 also. The...                iPad   \n",
       "3  @sxsw I hope this year's festival isn't as cra...  iPad or iPhone App   \n",
       "4  @sxtxstate great stuff on Fri #SXSW: Marissa M...              Google   \n",
       "\n",
       "  sentiment                                       cleaned_text  \\\n",
       "0  negative  @wesley i have a g iphone after  hrs tweeting ...   \n",
       "1  positive  @jessedee know about @fludapp  awesome ipadiph...   \n",
       "2  positive  @swonderlin can not wait for ipad  also they s...   \n",
       "3  negative  @sxsw i hope this years festival isnt as crash...   \n",
       "4  positive  @sxtxstate great stuff on fri sxsw marissa may...   \n",
       "\n",
       "                                      tokenized_text  \\\n",
       "0  [i, have, a, g, iphone, after, hrs, tweeting, ...   \n",
       "1  [know, about, awesome, ipadiphone, app, that, ...   \n",
       "2  [can, not, wait, for, ipad, also, they, should...   \n",
       "3  [i, hope, this, years, festival, isnt, as, cra...   \n",
       "4  [great, stuff, on, fri, sxsw, marissa, mayer, ...   \n",
       "\n",
       "                                      stopped_tokens  \n",
       "0  [g, iphone, hrs, tweeting, riseaustin, dead, n...  \n",
       "1  [know, awesome, ipadiphone, app, youll, likely...  \n",
       "2                     [wait, ipad, also, sale, sxsw]  \n",
       "3  [hope, years, festival, isnt, crashy, years, i...  \n",
       "4  [great, stuff, fri, sxsw, marissa, mayer, goog...  "
      ]
     },
     "execution_count": 15,
     "metadata": {},
     "output_type": "execute_result"
    }
   ],
   "source": [
    "df.head()"
   ]
  },
  {
   "cell_type": "code",
   "execution_count": 16,
   "metadata": {},
   "outputs": [],
   "source": [
    "# Lemmatize stopped tokens and create new column with lemmed words\n",
    "lemmatizer = WordNetLemmatizer()\n",
    "lemmed_tokens=[]\n",
    "for text in df['stopped_tokens']:\n",
    "    lemmed_tokens.append([lemmatizer.lemmatize(w) for w in text]) \n",
    "df['lemmed_tokens'] = lemmed_tokens"
   ]
  },
  {
   "cell_type": "code",
   "execution_count": 17,
   "metadata": {},
   "outputs": [
    {
     "data": {
      "text/html": [
       "<div>\n",
       "<style scoped>\n",
       "    .dataframe tbody tr th:only-of-type {\n",
       "        vertical-align: middle;\n",
       "    }\n",
       "\n",
       "    .dataframe tbody tr th {\n",
       "        vertical-align: top;\n",
       "    }\n",
       "\n",
       "    .dataframe thead th {\n",
       "        text-align: right;\n",
       "    }\n",
       "</style>\n",
       "<table border=\"1\" class=\"dataframe\">\n",
       "  <thead>\n",
       "    <tr style=\"text-align: right;\">\n",
       "      <th></th>\n",
       "      <th>tweet_text</th>\n",
       "      <th>subject</th>\n",
       "      <th>sentiment</th>\n",
       "      <th>cleaned_text</th>\n",
       "      <th>tokenized_text</th>\n",
       "      <th>stopped_tokens</th>\n",
       "      <th>lemmed_tokens</th>\n",
       "    </tr>\n",
       "  </thead>\n",
       "  <tbody>\n",
       "    <tr>\n",
       "      <th>0</th>\n",
       "      <td>.@wesley83 I have a 3G iPhone. After 3 hrs twe...</td>\n",
       "      <td>iPhone</td>\n",
       "      <td>negative</td>\n",
       "      <td>@wesley i have a g iphone after  hrs tweeting ...</td>\n",
       "      <td>[i, have, a, g, iphone, after, hrs, tweeting, ...</td>\n",
       "      <td>[g, iphone, hrs, tweeting, riseaustin, dead, n...</td>\n",
       "      <td>[g, iphone, hr, tweeting, riseaustin, dead, ne...</td>\n",
       "    </tr>\n",
       "    <tr>\n",
       "      <th>1</th>\n",
       "      <td>@jessedee Know about @fludapp ? Awesome iPad/i...</td>\n",
       "      <td>iPad or iPhone App</td>\n",
       "      <td>positive</td>\n",
       "      <td>@jessedee know about @fludapp  awesome ipadiph...</td>\n",
       "      <td>[know, about, awesome, ipadiphone, app, that, ...</td>\n",
       "      <td>[know, awesome, ipadiphone, app, youll, likely...</td>\n",
       "      <td>[know, awesome, ipadiphone, app, youll, likely...</td>\n",
       "    </tr>\n",
       "    <tr>\n",
       "      <th>2</th>\n",
       "      <td>@swonderlin Can not wait for #iPad 2 also. The...</td>\n",
       "      <td>iPad</td>\n",
       "      <td>positive</td>\n",
       "      <td>@swonderlin can not wait for ipad  also they s...</td>\n",
       "      <td>[can, not, wait, for, ipad, also, they, should...</td>\n",
       "      <td>[wait, ipad, also, sale, sxsw]</td>\n",
       "      <td>[wait, ipad, also, sale, sxsw]</td>\n",
       "    </tr>\n",
       "    <tr>\n",
       "      <th>3</th>\n",
       "      <td>@sxsw I hope this year's festival isn't as cra...</td>\n",
       "      <td>iPad or iPhone App</td>\n",
       "      <td>negative</td>\n",
       "      <td>@sxsw i hope this years festival isnt as crash...</td>\n",
       "      <td>[i, hope, this, years, festival, isnt, as, cra...</td>\n",
       "      <td>[hope, years, festival, isnt, crashy, years, i...</td>\n",
       "      <td>[hope, year, festival, isnt, crashy, year, iph...</td>\n",
       "    </tr>\n",
       "    <tr>\n",
       "      <th>4</th>\n",
       "      <td>@sxtxstate great stuff on Fri #SXSW: Marissa M...</td>\n",
       "      <td>Google</td>\n",
       "      <td>positive</td>\n",
       "      <td>@sxtxstate great stuff on fri sxsw marissa may...</td>\n",
       "      <td>[great, stuff, on, fri, sxsw, marissa, mayer, ...</td>\n",
       "      <td>[great, stuff, fri, sxsw, marissa, mayer, goog...</td>\n",
       "      <td>[great, stuff, fri, sxsw, marissa, mayer, goog...</td>\n",
       "    </tr>\n",
       "  </tbody>\n",
       "</table>\n",
       "</div>"
      ],
      "text/plain": [
       "                                          tweet_text             subject  \\\n",
       "0  .@wesley83 I have a 3G iPhone. After 3 hrs twe...              iPhone   \n",
       "1  @jessedee Know about @fludapp ? Awesome iPad/i...  iPad or iPhone App   \n",
       "2  @swonderlin Can not wait for #iPad 2 also. The...                iPad   \n",
       "3  @sxsw I hope this year's festival isn't as cra...  iPad or iPhone App   \n",
       "4  @sxtxstate great stuff on Fri #SXSW: Marissa M...              Google   \n",
       "\n",
       "  sentiment                                       cleaned_text  \\\n",
       "0  negative  @wesley i have a g iphone after  hrs tweeting ...   \n",
       "1  positive  @jessedee know about @fludapp  awesome ipadiph...   \n",
       "2  positive  @swonderlin can not wait for ipad  also they s...   \n",
       "3  negative  @sxsw i hope this years festival isnt as crash...   \n",
       "4  positive  @sxtxstate great stuff on fri sxsw marissa may...   \n",
       "\n",
       "                                      tokenized_text  \\\n",
       "0  [i, have, a, g, iphone, after, hrs, tweeting, ...   \n",
       "1  [know, about, awesome, ipadiphone, app, that, ...   \n",
       "2  [can, not, wait, for, ipad, also, they, should...   \n",
       "3  [i, hope, this, years, festival, isnt, as, cra...   \n",
       "4  [great, stuff, on, fri, sxsw, marissa, mayer, ...   \n",
       "\n",
       "                                      stopped_tokens  \\\n",
       "0  [g, iphone, hrs, tweeting, riseaustin, dead, n...   \n",
       "1  [know, awesome, ipadiphone, app, youll, likely...   \n",
       "2                     [wait, ipad, also, sale, sxsw]   \n",
       "3  [hope, years, festival, isnt, crashy, years, i...   \n",
       "4  [great, stuff, fri, sxsw, marissa, mayer, goog...   \n",
       "\n",
       "                                       lemmed_tokens  \n",
       "0  [g, iphone, hr, tweeting, riseaustin, dead, ne...  \n",
       "1  [know, awesome, ipadiphone, app, youll, likely...  \n",
       "2                     [wait, ipad, also, sale, sxsw]  \n",
       "3  [hope, year, festival, isnt, crashy, year, iph...  \n",
       "4  [great, stuff, fri, sxsw, marissa, mayer, goog...  "
      ]
     },
     "execution_count": 17,
     "metadata": {},
     "output_type": "execute_result"
    }
   ],
   "source": [
    "df.head()"
   ]
  },
  {
   "cell_type": "code",
   "execution_count": 18,
   "metadata": {},
   "outputs": [],
   "source": [
    "from sklearn.metrics import accuracy_score, confusion_matrix\n",
    "from sklearn.model_selection import train_test_split\n",
    "from sklearn.preprocessing import LabelEncoder\n",
    "from sklearn.feature_extraction.text import CountVectorizer"
   ]
  },
  {
   "cell_type": "code",
   "execution_count": 19,
   "metadata": {},
   "outputs": [],
   "source": [
    "# function to remove single-instance words from a list of tweets\n",
    "def remove_singles(col):\n",
    "    all_words = []\n",
    "    for text in col:\n",
    "        all_words += [w for w in text]\n",
    "    freqdist = FreqDist(all_words)\n",
    "    removable_words = [x[0] for x in freqdist.most_common(3)]\n",
    "    single_words = [x[0] for x in freqdist.most_common() if x[1]==1]\n",
    "    removable_words += single_words \n",
    "    list_of_strings = remove_words(col, removable_words)\n",
    "    list_of_sentences = [' '.join(q) for q in list_of_strings]\n",
    "    return list_of_sentences"
   ]
  },
  {
   "cell_type": "code",
   "execution_count": 20,
   "metadata": {},
   "outputs": [],
   "source": [
    "# Remove single words from current dataframe\n",
    "X2 = remove_singles(df['lemmed_tokens'])"
   ]
  },
  {
   "cell_type": "code",
   "execution_count": 21,
   "metadata": {},
   "outputs": [],
   "source": [
    "# function to take a dataframe and return a vectorized dataframe\n",
    "def vectorize(df):\n",
    "    vec = CountVectorizer()\n",
    "    X = vec.fit_transform(df)\n",
    "    df2 = pd.DataFrame(X.toarray(), columns = vec.get_feature_names())\n",
    "    return df2"
   ]
  },
  {
   "cell_type": "code",
   "execution_count": 22,
   "metadata": {},
   "outputs": [],
   "source": [
    "# Created vectorized datset and split into train and test data\n",
    "X = vectorize(X2)\n",
    "y = df['sentiment']\n",
    "\n",
    "#Train test split\n",
    "X_train, X_test, y_train, y_test = train_test_split(X, y, random_state = 42, test_size = 0.25)"
   ]
  },
  {
   "cell_type": "markdown",
   "metadata": {},
   "source": [
    "## Model 1 - Logistic Regression\n",
    "Using the vectorized data, first try to see how Logistic Regression performs. "
   ]
  },
  {
   "cell_type": "code",
   "execution_count": 23,
   "metadata": {},
   "outputs": [
    {
     "name": "stderr",
     "output_type": "stream",
     "text": [
      "C:\\Users\\cm_fr\\anaconda3\\envs\\learn-env\\lib\\site-packages\\sklearn\\linear_model\\_logistic.py:765: ConvergenceWarning: lbfgs failed to converge (status=1):\n",
      "STOP: TOTAL NO. of ITERATIONS REACHED LIMIT.\n",
      "\n",
      "Increase the number of iterations (max_iter) or scale the data as shown in:\n",
      "    https://scikit-learn.org/stable/modules/preprocessing.html\n",
      "Please also refer to the documentation for alternative solver options:\n",
      "    https://scikit-learn.org/stable/modules/linear_model.html#logistic-regression\n",
      "  extra_warning_msg=_LOGISTIC_SOLVER_CONVERGENCE_MSG)\n"
     ]
    }
   ],
   "source": [
    "# columns = vocabulary\n",
    "# fit with logistic regression\n",
    "from sklearn.linear_model import LogisticRegression\n",
    "\n",
    "# Create the model\n",
    "logreg = LogisticRegression(random_state=42, class_weight='balanced')\n",
    "\n",
    "# Fit the model\n",
    "model = logreg.fit(X_train, y_train)"
   ]
  },
  {
   "cell_type": "code",
   "execution_count": 24,
   "metadata": {},
   "outputs": [],
   "source": [
    "# Generate predictions\n",
    "y_train_pred = logreg.predict(X_train)\n",
    "y_test_pred = logreg.predict(X_test)"
   ]
  },
  {
   "cell_type": "code",
   "execution_count": 25,
   "metadata": {},
   "outputs": [
    {
     "name": "stdout",
     "output_type": "stream",
     "text": [
      "Train Accuracy is: 0.87\n",
      "Test Accuracy is: 0.654\n"
     ]
    }
   ],
   "source": [
    "# Caclulate accuracy for train data\n",
    "accuracy = accuracy_score(y_train, y_train_pred)\n",
    "print('Train Accuracy is: {0}'.format(round(accuracy, 2)))\n",
    "\n",
    "# Calculate accuracy for test data\n",
    "accuracy = accuracy_score(y_test, y_test_pred)\n",
    "print('Test Accuracy is: {0}'.format(round(accuracy, 3)))"
   ]
  },
  {
   "cell_type": "code",
   "execution_count": 26,
   "metadata": {},
   "outputs": [],
   "source": [
    "from sklearn.metrics import plot_confusion_matrix"
   ]
  },
  {
   "cell_type": "code",
   "execution_count": 27,
   "metadata": {
    "scrolled": true
   },
   "outputs": [
    {
     "data": {
      "text/plain": [
       "<sklearn.metrics._plot.confusion_matrix.ConfusionMatrixDisplay at 0x24855b5dac8>"
      ]
     },
     "execution_count": 27,
     "metadata": {},
     "output_type": "execute_result"
    },
    {
     "data": {
      "image/png": "[encoded data removed]",
      "text/plain": [
       "<Figure size 432x288 with 2 Axes>"
      ]
     },
     "metadata": {
      "needs_background": "light"
     },
     "output_type": "display_data"
    }
   ],
   "source": [
    "# Plot confusion matrix\n",
    "plot_confusion_matrix(model, X=X_test, y_true=y_test)"
   ]
  },
  {
   "cell_type": "markdown",
   "metadata": {},
   "source": [
    "Summary: There is a wide range between the train and test accuracy scores, indicating overfitting. The neutral sentiments are predicted well, however the positive sentiment was only slightly better than guessing, and the negative sentiment was not much better than guessing. "
   ]
  },
  {
   "cell_type": "markdown",
   "metadata": {},
   "source": [
    "## Model 1b - Logistic Regression - Optimized\n",
    "\n",
    "In this iteration, I want to try to get a better performance from the logistic regression model."
   ]
  },
  {
   "cell_type": "code",
   "execution_count": 28,
   "metadata": {},
   "outputs": [
    {
     "name": "stderr",
     "output_type": "stream",
     "text": [
      "C:\\Users\\cm_fr\\anaconda3\\envs\\learn-env\\lib\\site-packages\\sklearn\\linear_model\\_logistic.py:765: ConvergenceWarning: lbfgs failed to converge (status=1):\n",
      "STOP: TOTAL NO. of ITERATIONS REACHED LIMIT.\n",
      "\n",
      "Increase the number of iterations (max_iter) or scale the data as shown in:\n",
      "    https://scikit-learn.org/stable/modules/preprocessing.html\n",
      "Please also refer to the documentation for alternative solver options:\n",
      "    https://scikit-learn.org/stable/modules/linear_model.html#logistic-regression\n",
      "  extra_warning_msg=_LOGISTIC_SOLVER_CONVERGENCE_MSG)\n"
     ]
    },
    {
     "name": "stdout",
     "output_type": "stream",
     "text": [
      "C: 100\n",
      "Training accuracy: 0.9383766039988063\n",
      "Test accuracy: 0.6566696508504923\n",
      "\n"
     ]
    },
    {
     "name": "stderr",
     "output_type": "stream",
     "text": [
      "C:\\Users\\cm_fr\\anaconda3\\envs\\learn-env\\lib\\site-packages\\sklearn\\linear_model\\_logistic.py:765: ConvergenceWarning: lbfgs failed to converge (status=1):\n",
      "STOP: TOTAL NO. of ITERATIONS REACHED LIMIT.\n",
      "\n",
      "Increase the number of iterations (max_iter) or scale the data as shown in:\n",
      "    https://scikit-learn.org/stable/modules/preprocessing.html\n",
      "Please also refer to the documentation for alternative solver options:\n",
      "    https://scikit-learn.org/stable/modules/linear_model.html#logistic-regression\n",
      "  extra_warning_msg=_LOGISTIC_SOLVER_CONVERGENCE_MSG)\n"
     ]
    },
    {
     "name": "stdout",
     "output_type": "stream",
     "text": [
      "C: 10\n",
      "Training accuracy: 0.9303193076693524\n",
      "Test accuracy: 0.6651745747538048\n",
      "\n"
     ]
    },
    {
     "name": "stderr",
     "output_type": "stream",
     "text": [
      "C:\\Users\\cm_fr\\anaconda3\\envs\\learn-env\\lib\\site-packages\\sklearn\\linear_model\\_logistic.py:765: ConvergenceWarning: lbfgs failed to converge (status=1):\n",
      "STOP: TOTAL NO. of ITERATIONS REACHED LIMIT.\n",
      "\n",
      "Increase the number of iterations (max_iter) or scale the data as shown in:\n",
      "    https://scikit-learn.org/stable/modules/preprocessing.html\n",
      "Please also refer to the documentation for alternative solver options:\n",
      "    https://scikit-learn.org/stable/modules/linear_model.html#logistic-regression\n",
      "  extra_warning_msg=_LOGISTIC_SOLVER_CONVERGENCE_MSG)\n"
     ]
    },
    {
     "name": "stdout",
     "output_type": "stream",
     "text": [
      "C: 1\n",
      "Training accuracy: 0.8804834377797672\n",
      "Test accuracy: 0.6875559534467324\n",
      "\n",
      "C: 0.1\n",
      "Training accuracy: 0.7709638913757088\n",
      "Test accuracy: 0.6736794986571173\n",
      "\n",
      "C: 0.01\n",
      "Training accuracy: 0.662787227693226\n",
      "Test accuracy: 0.6486123545210385\n",
      "\n",
      "C: 0.001\n",
      "Training accuracy: 0.6014622500746046\n",
      "Test accuracy: 0.6069829901521934\n",
      "\n"
     ]
    }
   ],
   "source": [
    "# Find the best C value for logistic regression\n",
    "C = [100, 10, 1, .1, .01, .001]\n",
    "for c in C:\n",
    "    logmodel = LogisticRegression(C=c)\n",
    "    logmodel.fit(X_train, y_train)\n",
    "    print('C:', c)\n",
    "    print('Training accuracy:', logmodel.score(X_train, y_train))\n",
    "    print('Test accuracy:', logmodel.score(X_test, y_test))\n",
    "    print('')"
   ]
  },
  {
   "cell_type": "code",
   "execution_count": 29,
   "metadata": {},
   "outputs": [],
   "source": [
    "# Fit the model using the best C value from above, picked 0.01\n",
    "logmodel = LogisticRegression(C=0.01)\n",
    "logmodel.fit(X_train, y_train)\n",
    "\n",
    "# Generate predictions\n",
    "y_hat_train = logmodel.predict(X_train)\n",
    "y_hat_test = logmodel.predict(X_test)"
   ]
  },
  {
   "cell_type": "code",
   "execution_count": 30,
   "metadata": {},
   "outputs": [
    {
     "name": "stdout",
     "output_type": "stream",
     "text": [
      "Train Accuracy is: 0.66\n",
      "Test Accuracy is: 0.649\n"
     ]
    }
   ],
   "source": [
    "# Caclulate accuracy for train data\n",
    "accuracy = accuracy_score(y_train, y_hat_train)\n",
    "print('Train Accuracy is: {0}'.format(round(accuracy, 2)))\n",
    "\n",
    "# Calculate accuracy for test data\n",
    "accuracy = accuracy_score(y_test, y_hat_test)\n",
    "print('Test Accuracy is: {0}'.format(round(accuracy, 3)))"
   ]
  },
  {
   "cell_type": "code",
   "execution_count": 31,
   "metadata": {},
   "outputs": [
    {
     "data": {
      "image/png": "[encoded data removed]",
      "text/plain": [
       "<Figure size 432x288 with 2 Axes>"
      ]
     },
     "metadata": {
      "needs_background": "light"
     },
     "output_type": "display_data"
    }
   ],
   "source": [
    "# Plot confusion matrix\n",
    "plot_confusion_matrix(logmodel, X=X_test, y_true=y_test)\n",
    "plt.show()"
   ]
  },
  {
   "cell_type": "markdown",
   "metadata": {},
   "source": [
    "Summary: Overfitting issues solved and neutral and positive sentiment performing better, however negative sentiment performs the worst."
   ]
  },
  {
   "cell_type": "markdown",
   "metadata": {},
   "source": [
    "## Model 2 - Decision Tree Classifier\n",
    "\n",
    "Changing gears, I wanted to see how a decision tree classifier would perform."
   ]
  },
  {
   "cell_type": "code",
   "execution_count": 32,
   "metadata": {},
   "outputs": [],
   "source": [
    "from sklearn.tree import DecisionTreeClassifier \n",
    "from sklearn.metrics import accuracy_score, roc_curve, plot_confusion_matrix\n",
    "from sklearn.metrics import confusion_matrix, precision_recall_curve, f1_score, recall_score"
   ]
  },
  {
   "cell_type": "code",
   "execution_count": 33,
   "metadata": {},
   "outputs": [
    {
     "data": {
      "text/plain": [
       "DecisionTreeClassifier(random_state=42)"
      ]
     },
     "execution_count": 33,
     "metadata": {},
     "output_type": "execute_result"
    }
   ],
   "source": [
    "# Train a DT classifier\n",
    "classifier = DecisionTreeClassifier(random_state=42)  \n",
    "classifier.fit(X_train, y_train)"
   ]
  },
  {
   "cell_type": "code",
   "execution_count": 34,
   "metadata": {},
   "outputs": [],
   "source": [
    "# Make predictions for test data\n",
    "y_hat_train = classifier.predict(X_train) \n",
    "\n",
    "# Make predictions for test data\n",
    "y_hat_test = classifier.predict(X_test)"
   ]
  },
  {
   "cell_type": "code",
   "execution_count": 35,
   "metadata": {},
   "outputs": [
    {
     "name": "stdout",
     "output_type": "stream",
     "text": [
      "Train Accuracy is: 0.958\n",
      "Test Accuracy is: 0.66\n"
     ]
    }
   ],
   "source": [
    "# Caclulate accuracy for test data\n",
    "accuracy = accuracy_score(y_train, y_hat_train)\n",
    "print('Train Accuracy is: {0}'.format(round(accuracy, 3)))\n",
    "\n",
    "# Caclulate accuracy for test data\n",
    "accuracy = accuracy_score(y_test, y_hat_test)\n",
    "print('Test Accuracy is: {0}'.format(round(accuracy, 3)))"
   ]
  },
  {
   "cell_type": "code",
   "execution_count": 36,
   "metadata": {},
   "outputs": [
    {
     "data": {
      "image/png": "[encoded data removed]",
      "text/plain": [
       "<Figure size 432x288 with 2 Axes>"
      ]
     },
     "metadata": {
      "needs_background": "light"
     },
     "output_type": "display_data"
    }
   ],
   "source": [
    "# Plot confusion matrix\n",
    "plot_confusion_matrix(classifier, X=X_test, y_true=y_test)\n",
    "plt.show()"
   ]
  },
  {
   "cell_type": "markdown",
   "metadata": {},
   "source": [
    "Summary: Like Model 1, there is a wide range between the train and test accuracy scores, indicating overfitting. The neutral and positive sentiments are predicted adequtly, but the negative sentiment was worse than guessing. "
   ]
  },
  {
   "cell_type": "markdown",
   "metadata": {},
   "source": [
    "## Model 3 - XG Boost\n",
    "\n",
    "Trying out a gradient boosted model."
   ]
  },
  {
   "cell_type": "code",
   "execution_count": 39,
   "metadata": {},
   "outputs": [],
   "source": [
    "import xgboost as xgb\n",
    "from xgboost import XGBClassifier, plot_importance"
   ]
  },
  {
   "cell_type": "code",
   "execution_count": 40,
   "metadata": {},
   "outputs": [
    {
     "name": "stdout",
     "output_type": "stream",
     "text": [
      "Training Accuracy: 68.55%\n",
      "Validation accuracy: 65.26%\n"
     ]
    }
   ],
   "source": [
    "# Instantiate XGBClassifier\n",
    "xgb_clf = XGBClassifier()\n",
    "\n",
    "# Fit XGBClassifier\n",
    "xgb_clf.fit(X_train, y_train)\n",
    "\n",
    "# Predict on training and test sets\n",
    "training_preds = xgb_clf.predict(X_train)\n",
    "test_preds = xgb_clf.predict(X_test)\n",
    "\n",
    "# Accuracy of training and test sets\n",
    "training_accuracy = accuracy_score(y_train, training_preds)\n",
    "test_accuracy = accuracy_score(y_test, test_preds)\n",
    "\n",
    "print('Training Accuracy: {:.4}%'.format(training_accuracy * 100))\n",
    "print('Validation accuracy: {:.4}%'.format(test_accuracy * 100))"
   ]
  },
  {
   "cell_type": "code",
   "execution_count": 41,
   "metadata": {},
   "outputs": [
    {
     "data": {
      "text/plain": [
       "<sklearn.metrics._plot.confusion_matrix.ConfusionMatrixDisplay at 0x24855c614a8>"
      ]
     },
     "execution_count": 41,
     "metadata": {},
     "output_type": "execute_result"
    },
    {
     "data": {
      "image/png": "[encoded data removed]",
      "text/plain": [
       "<Figure size 432x288 with 2 Axes>"
      ]
     },
     "metadata": {
      "needs_background": "light"
     },
     "output_type": "display_data"
    }
   ],
   "source": [
    "# Look at confusion matrix\n",
    "plot_confusion_matrix(xgb_clf, X=X_test, y_true=y_test)"
   ]
  },
  {
   "cell_type": "markdown",
   "metadata": {},
   "source": [
    "Summary: Performs slightly better than Model 1B, but negative class heavily sacrificed."
   ]
  },
  {
   "cell_type": "markdown",
   "metadata": {},
   "source": [
    "## Model 3b - Grid Search with XG Boost\n",
    "\n",
    "Use a grid search in connection with XG Boost to get better performance."
   ]
  },
  {
   "cell_type": "code",
   "execution_count": 42,
   "metadata": {},
   "outputs": [],
   "source": [
    "from sklearn.model_selection import GridSearchCV"
   ]
  },
  {
   "cell_type": "code",
   "execution_count": 43,
   "metadata": {},
   "outputs": [],
   "source": [
    "# Goal is to increase recall\n",
    "param_grid = {\n",
    "    'learning_rate': [0.1, 0.2],\n",
    "    'max_depth': [4],\n",
    "    'min_child_weight': [1, 2],\n",
    "    'subsample': [0.7, 0.8],\n",
    "    'n_estimators': [10, 20],\n",
    "    'scale_pos_weight': [6] # impose greater penalties for errors on the minor class, sum(negative instances) / sum(positive instances)\n",
    "}"
   ]
  },
  {
   "cell_type": "code",
   "execution_count": 44,
   "metadata": {},
   "outputs": [
    {
     "name": "stdout",
     "output_type": "stream",
     "text": [
      "Grid Search found the following optimal parameters: \n",
      "learning_rate: 0.2\n",
      "max_depth: 4\n",
      "min_child_weight: 2\n",
      "n_estimators: 20\n",
      "scale_pos_weight: 6\n",
      "subsample: 0.7\n",
      "\n",
      "Training Accuracy: 66.62%\n",
      "Validation accuracy: 64.68%\n"
     ]
    }
   ],
   "source": [
    "# Grid Search based on previous XG Boost classifier\n",
    "grid_clf = GridSearchCV(xgb_clf, param_grid, scoring='accuracy', \n",
    "                        cv=None, n_jobs=1)\n",
    "\n",
    "grid_clf.fit(X_train, y_train)\n",
    "best_parameters = grid_clf.best_params_\n",
    "\n",
    "print('Grid Search found the following optimal parameters: ')\n",
    "for param_name in sorted(best_parameters.keys()):\n",
    "    print('%s: %r' % (param_name, best_parameters[param_name]))\n",
    "\n",
    "training_preds = grid_clf.predict(X_train)\n",
    "test_preds = grid_clf.predict(X_test)\n",
    "training_accuracy = accuracy_score(y_train, training_preds)\n",
    "test_accuracy = accuracy_score(y_test, test_preds)\n",
    "grid_clf\n",
    "print('')\n",
    "print('Training Accuracy: {:.4}%'.format(training_accuracy * 100))\n",
    "print('Validation accuracy: {:.4}%'.format(test_accuracy * 100))"
   ]
  },
  {
   "cell_type": "code",
   "execution_count": 45,
   "metadata": {},
   "outputs": [
    {
     "data": {
      "text/plain": [
       "<sklearn.metrics._plot.confusion_matrix.ConfusionMatrixDisplay at 0x24805ef8cc0>"
      ]
     },
     "execution_count": 45,
     "metadata": {},
     "output_type": "execute_result"
    },
    {
     "data": {
      "image/png": "[encoded data removed]",
      "text/plain": [
       "<Figure size 432x288 with 2 Axes>"
      ]
     },
     "metadata": {
      "needs_background": "light"
     },
     "output_type": "display_data"
    }
   ],
   "source": [
    "## Look at confusion matrix\n",
    "plot_confusion_matrix(grid_clf, X=X_test, y_true=y_test)"
   ]
  },
  {
   "cell_type": "markdown",
   "metadata": {},
   "source": [
    "Summary: Best performance in training vs. validation accuracy and confusion matrix, except for the negative class."
   ]
  }
 ],
 "metadata": {
  "kernelspec": {
   "display_name": "learn-env",
   "language": "python",
   "name": "learn-env"
  },
  "language_info": {
   "codemirror_mode": {
    "name": "ipython",
    "version": 3
   },
   "file_extension": ".py",
   "mimetype": "text/x-python",
   "name": "python",
   "nbconvert_exporter": "python",
   "pygments_lexer": "ipython3",
   "version": "3.6.9"
  }
 },
 "nbformat": 4,
 "nbformat_minor": 4
}
