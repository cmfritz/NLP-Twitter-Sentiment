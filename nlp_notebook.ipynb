{
 "cells": [
  {
   "cell_type": "markdown",
   "metadata": {},
   "source": [
    "# Project 4 - NLP with Twitter Sentiments"
   ]
  },
  {
   "cell_type": "markdown",
   "metadata": {},
   "source": [
    "## Business Understanding\n",
    "Businesses often wish to get feedback on their products, however getting direct feedback usually requires that someone takes time to write something like a product review. People informally talk about their lives in social media like Twitter, and could be a source of informal product feedback. Being able to automatically capture product sentiment, like if a product was being received positively or negatively, could gain companies insight into how their product is being perceived."
   ]
  },
  {
   "cell_type": "code",
   "execution_count": 1,
   "metadata": {},
   "outputs": [],
   "source": [
    "import pandas as pd\n",
    "import numpy as np\n",
    "import string\n",
    "import re\n",
    "from matplotlib import pyplot as plt\n",
    "import seaborn as sns\n",
    "\n",
    "from nltk.corpus import stopwords\n",
    "from nltk import FreqDist, word_tokenize\n",
    "from nltk.tokenize import TweetTokenizer\n",
    "from nltk.stem import WordNetLemmatizer \n",
    "\n",
    "import xgboost as xgb\n",
    "from xgboost import XGBClassifier, plot_importance"
   ]
  },
  {
   "cell_type": "code",
   "execution_count": 2,
   "metadata": {},
   "outputs": [],
   "source": [
    "from sklearn.linear_model import LogisticRegression\n",
    "from sklearn.model_selection import train_test_split, GridSearchCV\n",
    "from sklearn.preprocessing import LabelEncoder\n",
    "from sklearn.feature_extraction.text import CountVectorizer\n",
    "from sklearn.tree import DecisionTreeClassifier \n",
    "from sklearn.metrics import accuracy_score, plot_confusion_matrix\n",
    "from sklearn.metrics import confusion_matrix, precision_recall_curve, f1_score, recall_score"
   ]
  },
  {
   "cell_type": "markdown",
   "metadata": {},
   "source": [
    "## Functions\n",
    "Below are the functions created for repetetive tasks"
   ]
  },
  {
   "cell_type": "code",
   "execution_count": 3,
   "metadata": {},
   "outputs": [],
   "source": [
    "def preprocess(column):\n",
    "    '''\n",
    "    Takes a single-column dataframe and return a list of the cleaned text.\n",
    "    \n",
    "    Parameters: \n",
    "    column: Single column of dataframe with rows of strings\n",
    "    \n",
    "    Returns:\n",
    "    cleanedtext: List of cleaned strings\n",
    "    '''\n",
    "    acceptable = re.compile('[a-zA-Z @]') # regex expression to keep letters and handles\n",
    "\n",
    "    # make a list of the text that fits with regex above\n",
    "    cleanedtext = []\n",
    "    for text in column:\n",
    "        p = ''.join(acceptable.findall(text)).lower()\n",
    "        cleanedtext.append(p)\n",
    "    \n",
    "    return cleanedtext"
   ]
  },
  {
   "cell_type": "code",
   "execution_count": 4,
   "metadata": {},
   "outputs": [],
   "source": [
    "def remove_words(col, to_remove):\n",
    "    '''\n",
    "    Takes a tokenized df column and a list of words and returns the tokens with the words removed.\n",
    "    \n",
    "    Parameters: \n",
    "    df: Single column of dataframe with rows of strings\n",
    "    to_remove: List of words to be removed from strings\n",
    "    \n",
    "    Returns: \n",
    "    cleaned: List of strings with desired words removed\n",
    "    \n",
    "    '''\n",
    "    cleaned = []\n",
    "    for text in col:\n",
    "        cleaned.append([w for w in text if w not in to_remove])\n",
    "    return cleaned"
   ]
  },
  {
   "cell_type": "code",
   "execution_count": 5,
   "metadata": {},
   "outputs": [],
   "source": [
    "# function to remove single-instance words from a list of tweets\n",
    "def remove_singles(col):\n",
    "    '''\n",
    "    Remove words that appear only once in a list of strings.\n",
    "    \n",
    "    Parameters: \n",
    "    col: Single column of dataframe with rows of strings\n",
    "    \n",
    "    Returns: \n",
    "    list_of_sentences: List of strings with single words removed\n",
    "    \n",
    "    '''\n",
    "    all_words = []\n",
    "    for text in col:\n",
    "        all_words += [w for w in text]\n",
    "    freqdist = FreqDist(all_words)\n",
    "    removable_words = [x[0] for x in freqdist.most_common(3)]\n",
    "    single_words = [x[0] for x in freqdist.most_common() if x[1]==1]\n",
    "    removable_words += single_words \n",
    "    list_of_strings = remove_words(col, removable_words)\n",
    "    list_of_sentences = [' '.join(q) for q in list_of_strings]\n",
    "    return list_of_sentences"
   ]
  },
  {
   "cell_type": "code",
   "execution_count": 6,
   "metadata": {},
   "outputs": [],
   "source": [
    "def train_and_predict(model, Xy):\n",
    "    '''\n",
    "    Given a model and train and test data, function fits the model and returns predicted values.\n",
    "    \n",
    "    Parameters: \n",
    "    model: object containing initialized model for training\n",
    "    Xy: object containing train and test data for X and y sets\n",
    "    \n",
    "    Returns:\n",
    "    Xy: updated Xy object with X & y prediction data (y_hat_train and y_hat_test)\n",
    "    \n",
    "    '''\n",
    "    model.fit(Xy.X_train, Xy.y_train)\n",
    "    \n",
    "    # Make predictions for test data\n",
    "    Xy.y_hat_train = model.predict(Xy.X_train)\n",
    "    \n",
    "    # Make predictions for test data\n",
    "    Xy.y_hat_test = model.predict(Xy.X_test)\n",
    "    \n",
    "    return Xy"
   ]
  },
  {
   "cell_type": "code",
   "execution_count": 7,
   "metadata": {},
   "outputs": [],
   "source": [
    "# function to automate the gridsearch steps\n",
    "def run_grid_search(params, model, Xy):\n",
    "    '''\n",
    "    Takes in parameters, initialized model, and test train data and returns function to automate the gridsearch steps.\n",
    "    \n",
    "    Parameters: \n",
    "    \n",
    "    Returns:\n",
    "    \n",
    "    '''\n",
    "    gs = GridSearchCV(model, params, cv=None, n_jobs=1)\n",
    "    gs.fit(Xy.X_train, Xy.y_train)\n",
    "    best_parameters = gs.best_params_\n",
    "\n",
    "    print('Grid Search found the following optimal parameters: ')\n",
    "    for param_name in sorted(best_parameters.keys()):\n",
    "        print('%s: %r' % (param_name, best_parameters[param_name]))\n",
    "\n",
    "    # Make predictions for test data\n",
    "    Xy.y_hat_train = gs.predict(Xy.X_train)\n",
    "    \n",
    "    # Make predictions for test data\n",
    "    Xy.y_hat_test = gs.predict(Xy.X_test)\n",
    "    \n",
    "    return gs, Xy"
   ]
  },
  {
   "cell_type": "code",
   "execution_count": 8,
   "metadata": {},
   "outputs": [],
   "source": [
    "# Function to generate model scores\n",
    "def model_scores(model, Xy):\n",
    "    '''\n",
    "    Description.\n",
    "    \n",
    "    Parameters: \n",
    "    \n",
    "    Returns:\n",
    "    \n",
    "    '''\n",
    "    # Caclulate accuracy for test data\n",
    "    train_accuracy = accuracy_score(Xy.y_train, Xy.y_hat_train)\n",
    "    print('Training Accuracy: {:.4}%'.format(train_accuracy * 100))\n",
    "\n",
    "    # Caclulate accuracy for test data\n",
    "    test_accuracy = accuracy_score(Xy.y_test, Xy.y_hat_test)\n",
    "    print('Training Accuracy: {:.4}%'.format(test_accuracy * 100))\n",
    "    \n",
    "    # Caclulate F1 for train data\n",
    "    train_f1 = f1_score(Xy.y_train, Xy.y_hat_train, pos_label='negative')\n",
    "    print('Training F1 Score: {:.4}%'.format(train_f1 * 100))\n",
    "\n",
    "    # Calculate F1 for test data\n",
    "    test_f1 = f1_score(Xy.y_test,Xy. y_hat_test, pos_label='negative')\n",
    "    print('Training F1 Score: {:.4}%'.format(test_f1 * 100))\n",
    "\n",
    "    # Plot confusion matrix\n",
    "    print('Confusion Matrix for test data')\n",
    "    plot_confusion_matrix(model, X=Xy.X_test, y_true=Xy.y_test)\n",
    "    plt.show()"
   ]
  },
  {
   "cell_type": "markdown",
   "metadata": {},
   "source": [
    "## Text Preprocessing\n",
    "\n",
    "Before modeling, the text needs to be cleaned and processed so that it is suitable for modeling. I'll take out undesired characters and rows from the data, tokenize, and then ultimately vectorize the text."
   ]
  },
  {
   "cell_type": "code",
   "execution_count": 9,
   "metadata": {},
   "outputs": [
    {
     "data": {
      "text/html": [
       "<div>\n",
       "<style scoped>\n",
       "    .dataframe tbody tr th:only-of-type {\n",
       "        vertical-align: middle;\n",
       "    }\n",
       "\n",
       "    .dataframe tbody tr th {\n",
       "        vertical-align: top;\n",
       "    }\n",
       "\n",
       "    .dataframe thead th {\n",
       "        text-align: right;\n",
       "    }\n",
       "</style>\n",
       "<table border=\"1\" class=\"dataframe\">\n",
       "  <thead>\n",
       "    <tr style=\"text-align: right;\">\n",
       "      <th></th>\n",
       "      <th>tweet_text</th>\n",
       "      <th>emotion_in_tweet_is_directed_at</th>\n",
       "      <th>is_there_an_emotion_directed_at_a_brand_or_product</th>\n",
       "    </tr>\n",
       "  </thead>\n",
       "  <tbody>\n",
       "    <tr>\n",
       "      <th>0</th>\n",
       "      <td>.@wesley83 I have a 3G iPhone. After 3 hrs twe...</td>\n",
       "      <td>iPhone</td>\n",
       "      <td>Negative emotion</td>\n",
       "    </tr>\n",
       "    <tr>\n",
       "      <th>1</th>\n",
       "      <td>@jessedee Know about @fludapp ? Awesome iPad/i...</td>\n",
       "      <td>iPad or iPhone App</td>\n",
       "      <td>Positive emotion</td>\n",
       "    </tr>\n",
       "    <tr>\n",
       "      <th>2</th>\n",
       "      <td>@swonderlin Can not wait for #iPad 2 also. The...</td>\n",
       "      <td>iPad</td>\n",
       "      <td>Positive emotion</td>\n",
       "    </tr>\n",
       "    <tr>\n",
       "      <th>3</th>\n",
       "      <td>@sxsw I hope this year's festival isn't as cra...</td>\n",
       "      <td>iPad or iPhone App</td>\n",
       "      <td>Negative emotion</td>\n",
       "    </tr>\n",
       "    <tr>\n",
       "      <th>4</th>\n",
       "      <td>@sxtxstate great stuff on Fri #SXSW: Marissa M...</td>\n",
       "      <td>Google</td>\n",
       "      <td>Positive emotion</td>\n",
       "    </tr>\n",
       "    <tr>\n",
       "      <th>...</th>\n",
       "      <td>...</td>\n",
       "      <td>...</td>\n",
       "      <td>...</td>\n",
       "    </tr>\n",
       "    <tr>\n",
       "      <th>9088</th>\n",
       "      <td>Ipad everywhere. #SXSW {link}</td>\n",
       "      <td>iPad</td>\n",
       "      <td>Positive emotion</td>\n",
       "    </tr>\n",
       "    <tr>\n",
       "      <th>9089</th>\n",
       "      <td>Wave, buzz... RT @mention We interrupt your re...</td>\n",
       "      <td>NaN</td>\n",
       "      <td>No emotion toward brand or product</td>\n",
       "    </tr>\n",
       "    <tr>\n",
       "      <th>9090</th>\n",
       "      <td>Google's Zeiger, a physician never reported po...</td>\n",
       "      <td>NaN</td>\n",
       "      <td>No emotion toward brand or product</td>\n",
       "    </tr>\n",
       "    <tr>\n",
       "      <th>9091</th>\n",
       "      <td>Some Verizon iPhone customers complained their...</td>\n",
       "      <td>NaN</td>\n",
       "      <td>No emotion toward brand or product</td>\n",
       "    </tr>\n",
       "    <tr>\n",
       "      <th>9092</th>\n",
       "      <td>ŒÏ¡ŽÏàŠü_‹Ê‹Î‹Ò‹£‹Á‹ââ‹_‹£‹‹â_‹ÛâRT @...</td>\n",
       "      <td>NaN</td>\n",
       "      <td>No emotion toward brand or product</td>\n",
       "    </tr>\n",
       "  </tbody>\n",
       "</table>\n",
       "<p>9093 rows × 3 columns</p>\n",
       "</div>"
      ],
      "text/plain": [
       "                                             tweet_text  \\\n",
       "0     .@wesley83 I have a 3G iPhone. After 3 hrs twe...   \n",
       "1     @jessedee Know about @fludapp ? Awesome iPad/i...   \n",
       "2     @swonderlin Can not wait for #iPad 2 also. The...   \n",
       "3     @sxsw I hope this year's festival isn't as cra...   \n",
       "4     @sxtxstate great stuff on Fri #SXSW: Marissa M...   \n",
       "...                                                 ...   \n",
       "9088                      Ipad everywhere. #SXSW {link}   \n",
       "9089  Wave, buzz... RT @mention We interrupt your re...   \n",
       "9090  Google's Zeiger, a physician never reported po...   \n",
       "9091  Some Verizon iPhone customers complained their...   \n",
       "9092  ŒÏ¡ŽÏàŠü_‹Ê‹Î‹Ò‹£‹Á‹ââ‹_‹£‹‹â_‹ÛâRT @...   \n",
       "\n",
       "     emotion_in_tweet_is_directed_at  \\\n",
       "0                             iPhone   \n",
       "1                 iPad or iPhone App   \n",
       "2                               iPad   \n",
       "3                 iPad or iPhone App   \n",
       "4                             Google   \n",
       "...                              ...   \n",
       "9088                            iPad   \n",
       "9089                             NaN   \n",
       "9090                             NaN   \n",
       "9091                             NaN   \n",
       "9092                             NaN   \n",
       "\n",
       "     is_there_an_emotion_directed_at_a_brand_or_product  \n",
       "0                                      Negative emotion  \n",
       "1                                      Positive emotion  \n",
       "2                                      Positive emotion  \n",
       "3                                      Negative emotion  \n",
       "4                                      Positive emotion  \n",
       "...                                                 ...  \n",
       "9088                                   Positive emotion  \n",
       "9089                 No emotion toward brand or product  \n",
       "9090                 No emotion toward brand or product  \n",
       "9091                 No emotion toward brand or product  \n",
       "9092                 No emotion toward brand or product  \n",
       "\n",
       "[9093 rows x 3 columns]"
      ]
     },
     "execution_count": 9,
     "metadata": {},
     "output_type": "execute_result"
    }
   ],
   "source": [
    "# Load data and take a first look\n",
    "data = pd.read_csv('data/judge-1377884607_tweet_product_company.csv', \n",
    "                   encoding='ansi')\n",
    "df = pd.DataFrame(data)\n",
    "df"
   ]
  },
  {
   "cell_type": "code",
   "execution_count": 10,
   "metadata": {},
   "outputs": [
    {
     "name": "stdout",
     "output_type": "stream",
     "text": [
      "<class 'pandas.core.frame.DataFrame'>\n",
      "RangeIndex: 9093 entries, 0 to 9092\n",
      "Data columns (total 3 columns):\n",
      "tweet_text    9092 non-null object\n",
      "subject       3291 non-null object\n",
      "sentiment     9093 non-null object\n",
      "dtypes: object(3)\n",
      "memory usage: 213.2+ KB\n"
     ]
    }
   ],
   "source": [
    "# rename columns to shorter names and look at info\n",
    "df = df.rename(columns={'emotion_in_tweet_is_directed_at':'subject',\n",
    "                        'is_there_an_emotion_directed_at_a_brand_or_product':'sentiment'})\n",
    "df.info()"
   ]
  },
  {
   "cell_type": "code",
   "execution_count": 11,
   "metadata": {},
   "outputs": [
    {
     "data": {
      "text/plain": [
       "['No emotion toward brand or product',\n",
       " 'Positive emotion',\n",
       " \"I can't tell\",\n",
       " 'Negative emotion']"
      ]
     },
     "execution_count": 11,
     "metadata": {},
     "output_type": "execute_result"
    }
   ],
   "source": [
    "# get a list of the sentiment categories\n",
    "sentiments = list(set(df['sentiment']))\n",
    "sentiments"
   ]
  },
  {
   "cell_type": "code",
   "execution_count": 12,
   "metadata": {},
   "outputs": [],
   "source": [
    "# rename the categories to simpler labels\n",
    "df['sentiment'] = df['sentiment'].replace(to_replace='Positive emotion', value ='positive')\n",
    "df['sentiment'] = df['sentiment'].replace(to_replace='Negative emotion', value ='negative')\n",
    "df['sentiment'] = df['sentiment'].replace(to_replace='''I can't tell''', value ='unknown')\n",
    "df['sentiment'] = df['sentiment'].replace(to_replace='No emotion toward brand or product', value ='neutral')"
   ]
  },
  {
   "cell_type": "code",
   "execution_count": 13,
   "metadata": {},
   "outputs": [
    {
     "name": "stdout",
     "output_type": "stream",
     "text": [
      "<class 'pandas.core.frame.DataFrame'>\n",
      "Int64Index: 9092 entries, 0 to 9092\n",
      "Data columns (total 3 columns):\n",
      "tweet_text    9092 non-null object\n",
      "subject       9092 non-null object\n",
      "sentiment     9092 non-null object\n",
      "dtypes: object(3)\n",
      "memory usage: 284.1+ KB\n"
     ]
    }
   ],
   "source": [
    "# drop rows without tweet text and fill renaming nan values with 'none'\n",
    "df = df.dropna(subset=['tweet_text'])\n",
    "df = df.fillna('none')\n",
    "df.info()"
   ]
  },
  {
   "cell_type": "code",
   "execution_count": 14,
   "metadata": {},
   "outputs": [
    {
     "data": {
      "text/html": [
       "<div>\n",
       "<style scoped>\n",
       "    .dataframe tbody tr th:only-of-type {\n",
       "        vertical-align: middle;\n",
       "    }\n",
       "\n",
       "    .dataframe tbody tr th {\n",
       "        vertical-align: top;\n",
       "    }\n",
       "\n",
       "    .dataframe thead th {\n",
       "        text-align: right;\n",
       "    }\n",
       "</style>\n",
       "<table border=\"1\" class=\"dataframe\">\n",
       "  <thead>\n",
       "    <tr style=\"text-align: right;\">\n",
       "      <th></th>\n",
       "      <th>tweet_text</th>\n",
       "      <th>subject</th>\n",
       "      <th>sentiment</th>\n",
       "      <th>cleaned_text</th>\n",
       "    </tr>\n",
       "  </thead>\n",
       "  <tbody>\n",
       "    <tr>\n",
       "      <th>0</th>\n",
       "      <td>.@wesley83 I have a 3G iPhone. After 3 hrs twe...</td>\n",
       "      <td>iPhone</td>\n",
       "      <td>negative</td>\n",
       "      <td>@wesley i have a g iphone after  hrs tweeting ...</td>\n",
       "    </tr>\n",
       "    <tr>\n",
       "      <th>1</th>\n",
       "      <td>@jessedee Know about @fludapp ? Awesome iPad/i...</td>\n",
       "      <td>iPad or iPhone App</td>\n",
       "      <td>positive</td>\n",
       "      <td>@jessedee know about @fludapp  awesome ipadiph...</td>\n",
       "    </tr>\n",
       "    <tr>\n",
       "      <th>2</th>\n",
       "      <td>@swonderlin Can not wait for #iPad 2 also. The...</td>\n",
       "      <td>iPad</td>\n",
       "      <td>positive</td>\n",
       "      <td>@swonderlin can not wait for ipad  also they s...</td>\n",
       "    </tr>\n",
       "    <tr>\n",
       "      <th>3</th>\n",
       "      <td>@sxsw I hope this year's festival isn't as cra...</td>\n",
       "      <td>iPad or iPhone App</td>\n",
       "      <td>negative</td>\n",
       "      <td>@sxsw i hope this years festival isnt as crash...</td>\n",
       "    </tr>\n",
       "    <tr>\n",
       "      <th>4</th>\n",
       "      <td>@sxtxstate great stuff on Fri #SXSW: Marissa M...</td>\n",
       "      <td>Google</td>\n",
       "      <td>positive</td>\n",
       "      <td>@sxtxstate great stuff on fri sxsw marissa may...</td>\n",
       "    </tr>\n",
       "    <tr>\n",
       "      <th>...</th>\n",
       "      <td>...</td>\n",
       "      <td>...</td>\n",
       "      <td>...</td>\n",
       "      <td>...</td>\n",
       "    </tr>\n",
       "    <tr>\n",
       "      <th>9088</th>\n",
       "      <td>Ipad everywhere. #SXSW {link}</td>\n",
       "      <td>iPad</td>\n",
       "      <td>positive</td>\n",
       "      <td>ipad everywhere sxsw link</td>\n",
       "    </tr>\n",
       "    <tr>\n",
       "      <th>9089</th>\n",
       "      <td>Wave, buzz... RT @mention We interrupt your re...</td>\n",
       "      <td>none</td>\n",
       "      <td>neutral</td>\n",
       "      <td>wave buzz rt @mention we interrupt your regula...</td>\n",
       "    </tr>\n",
       "    <tr>\n",
       "      <th>9090</th>\n",
       "      <td>Google's Zeiger, a physician never reported po...</td>\n",
       "      <td>none</td>\n",
       "      <td>neutral</td>\n",
       "      <td>googles zeiger a physician never reported pote...</td>\n",
       "    </tr>\n",
       "    <tr>\n",
       "      <th>9091</th>\n",
       "      <td>Some Verizon iPhone customers complained their...</td>\n",
       "      <td>none</td>\n",
       "      <td>neutral</td>\n",
       "      <td>some verizon iphone customers complained their...</td>\n",
       "    </tr>\n",
       "    <tr>\n",
       "      <th>9092</th>\n",
       "      <td>ŒÏ¡ŽÏàŠü_‹Ê‹Î‹Ò‹£‹Á‹ââ‹_‹£‹‹â_‹ÛâRT @...</td>\n",
       "      <td>none</td>\n",
       "      <td>neutral</td>\n",
       "      <td>rt @mention google tests checkin offers at sxs...</td>\n",
       "    </tr>\n",
       "  </tbody>\n",
       "</table>\n",
       "<p>9092 rows × 4 columns</p>\n",
       "</div>"
      ],
      "text/plain": [
       "                                             tweet_text             subject  \\\n",
       "0     .@wesley83 I have a 3G iPhone. After 3 hrs twe...              iPhone   \n",
       "1     @jessedee Know about @fludapp ? Awesome iPad/i...  iPad or iPhone App   \n",
       "2     @swonderlin Can not wait for #iPad 2 also. The...                iPad   \n",
       "3     @sxsw I hope this year's festival isn't as cra...  iPad or iPhone App   \n",
       "4     @sxtxstate great stuff on Fri #SXSW: Marissa M...              Google   \n",
       "...                                                 ...                 ...   \n",
       "9088                      Ipad everywhere. #SXSW {link}                iPad   \n",
       "9089  Wave, buzz... RT @mention We interrupt your re...                none   \n",
       "9090  Google's Zeiger, a physician never reported po...                none   \n",
       "9091  Some Verizon iPhone customers complained their...                none   \n",
       "9092  ŒÏ¡ŽÏàŠü_‹Ê‹Î‹Ò‹£‹Á‹ââ‹_‹£‹‹â_‹ÛâRT @...                none   \n",
       "\n",
       "     sentiment                                       cleaned_text  \n",
       "0     negative  @wesley i have a g iphone after  hrs tweeting ...  \n",
       "1     positive  @jessedee know about @fludapp  awesome ipadiph...  \n",
       "2     positive  @swonderlin can not wait for ipad  also they s...  \n",
       "3     negative  @sxsw i hope this years festival isnt as crash...  \n",
       "4     positive  @sxtxstate great stuff on fri sxsw marissa may...  \n",
       "...        ...                                                ...  \n",
       "9088  positive                          ipad everywhere sxsw link  \n",
       "9089   neutral  wave buzz rt @mention we interrupt your regula...  \n",
       "9090   neutral  googles zeiger a physician never reported pote...  \n",
       "9091   neutral  some verizon iphone customers complained their...  \n",
       "9092   neutral  rt @mention google tests checkin offers at sxs...  \n",
       "\n",
       "[9092 rows x 4 columns]"
      ]
     },
     "execution_count": 14,
     "metadata": {},
     "output_type": "execute_result"
    }
   ],
   "source": [
    "# make a n ew column of the clean text\n",
    "df['cleaned_text'] = preprocess(df['tweet_text'])\n",
    "df"
   ]
  },
  {
   "cell_type": "code",
   "execution_count": 15,
   "metadata": {},
   "outputs": [
    {
     "data": {
      "image/png": "[encoded data removed]",
      "text/plain": [
       "<Figure size 432x288 with 1 Axes>"
      ]
     },
     "metadata": {
      "needs_background": "light"
     },
     "output_type": "display_data"
    }
   ],
   "source": [
    "# Look at the counts for each category\n",
    "ax = sns.countplot(x='sentiment', data=df, palette='viridis')"
   ]
  },
  {
   "cell_type": "markdown",
   "metadata": {},
   "source": [
    "### Data Understanding\n",
    "The data used for this project is a collection of tweets that have been classified by a human as to whether they are positive, negative, neutral, or if the sentiment is unknown. Further, the subject of the tweets center around Apple or Android products.\n",
    "\n",
    "Looking at the data, we see that we do have a bit of an imbalance, with a large majority of the classes in the neutral and positive categories. I left the data as it is, but the affect that has the models will be shown later. Also, I decided that the unknown and neutral class could be removed, since it does not provide useful information for identifying a sentiment."
   ]
  },
  {
   "cell_type": "code",
   "execution_count": 16,
   "metadata": {},
   "outputs": [],
   "source": [
    "# drop unknown sentiments\n",
    "df = df[df['sentiment'] != 'unknown']\n",
    "df = df[df['sentiment'] != 'neutral']"
   ]
  },
  {
   "cell_type": "code",
   "execution_count": 17,
   "metadata": {},
   "outputs": [],
   "source": [
    "# tokenize the tweet text\n",
    "tt = TweetTokenizer(strip_handles=True, reduce_len=True, preserve_case=False)\n",
    "df['tokenized_text'] = df['cleaned_text'].apply(tt.tokenize)"
   ]
  },
  {
   "cell_type": "code",
   "execution_count": 18,
   "metadata": {
    "scrolled": true
   },
   "outputs": [
    {
     "data": {
      "text/html": [
       "<div>\n",
       "<style scoped>\n",
       "    .dataframe tbody tr th:only-of-type {\n",
       "        vertical-align: middle;\n",
       "    }\n",
       "\n",
       "    .dataframe tbody tr th {\n",
       "        vertical-align: top;\n",
       "    }\n",
       "\n",
       "    .dataframe thead th {\n",
       "        text-align: right;\n",
       "    }\n",
       "</style>\n",
       "<table border=\"1\" class=\"dataframe\">\n",
       "  <thead>\n",
       "    <tr style=\"text-align: right;\">\n",
       "      <th></th>\n",
       "      <th>tweet_text</th>\n",
       "      <th>subject</th>\n",
       "      <th>sentiment</th>\n",
       "      <th>cleaned_text</th>\n",
       "      <th>tokenized_text</th>\n",
       "    </tr>\n",
       "  </thead>\n",
       "  <tbody>\n",
       "    <tr>\n",
       "      <th>0</th>\n",
       "      <td>.@wesley83 I have a 3G iPhone. After 3 hrs twe...</td>\n",
       "      <td>iPhone</td>\n",
       "      <td>negative</td>\n",
       "      <td>@wesley i have a g iphone after  hrs tweeting ...</td>\n",
       "      <td>[i, have, a, g, iphone, after, hrs, tweeting, ...</td>\n",
       "    </tr>\n",
       "    <tr>\n",
       "      <th>1</th>\n",
       "      <td>@jessedee Know about @fludapp ? Awesome iPad/i...</td>\n",
       "      <td>iPad or iPhone App</td>\n",
       "      <td>positive</td>\n",
       "      <td>@jessedee know about @fludapp  awesome ipadiph...</td>\n",
       "      <td>[know, about, awesome, ipadiphone, app, that, ...</td>\n",
       "    </tr>\n",
       "    <tr>\n",
       "      <th>2</th>\n",
       "      <td>@swonderlin Can not wait for #iPad 2 also. The...</td>\n",
       "      <td>iPad</td>\n",
       "      <td>positive</td>\n",
       "      <td>@swonderlin can not wait for ipad  also they s...</td>\n",
       "      <td>[can, not, wait, for, ipad, also, they, should...</td>\n",
       "    </tr>\n",
       "    <tr>\n",
       "      <th>3</th>\n",
       "      <td>@sxsw I hope this year's festival isn't as cra...</td>\n",
       "      <td>iPad or iPhone App</td>\n",
       "      <td>negative</td>\n",
       "      <td>@sxsw i hope this years festival isnt as crash...</td>\n",
       "      <td>[i, hope, this, years, festival, isnt, as, cra...</td>\n",
       "    </tr>\n",
       "    <tr>\n",
       "      <th>4</th>\n",
       "      <td>@sxtxstate great stuff on Fri #SXSW: Marissa M...</td>\n",
       "      <td>Google</td>\n",
       "      <td>positive</td>\n",
       "      <td>@sxtxstate great stuff on fri sxsw marissa may...</td>\n",
       "      <td>[great, stuff, on, fri, sxsw, marissa, mayer, ...</td>\n",
       "    </tr>\n",
       "    <tr>\n",
       "      <th>...</th>\n",
       "      <td>...</td>\n",
       "      <td>...</td>\n",
       "      <td>...</td>\n",
       "      <td>...</td>\n",
       "      <td>...</td>\n",
       "    </tr>\n",
       "    <tr>\n",
       "      <th>3543</th>\n",
       "      <td>@mention your PR guy just convinced me to swit...</td>\n",
       "      <td>iPhone</td>\n",
       "      <td>positive</td>\n",
       "      <td>@mention your pr guy just convinced me to swit...</td>\n",
       "      <td>[your, pr, guy, just, convinced, me, to, switc...</td>\n",
       "    </tr>\n",
       "    <tr>\n",
       "      <th>3544</th>\n",
       "      <td>&amp;quot;papyrus...sort of like the ipad&amp;quot; - ...</td>\n",
       "      <td>iPad</td>\n",
       "      <td>positive</td>\n",
       "      <td>quotpapyrussort of like the ipadquot  nice lol...</td>\n",
       "      <td>[quotpapyrussort, of, like, the, ipadquot, nic...</td>\n",
       "    </tr>\n",
       "    <tr>\n",
       "      <th>3545</th>\n",
       "      <td>Diller says Google TV &amp;quot;might be run over ...</td>\n",
       "      <td>Other Google product or service</td>\n",
       "      <td>negative</td>\n",
       "      <td>diller says google tv quotmight be run over by...</td>\n",
       "      <td>[diller, says, google, tv, quotmight, be, run,...</td>\n",
       "    </tr>\n",
       "    <tr>\n",
       "      <th>3546</th>\n",
       "      <td>I've always used Camera+ for my iPhone b/c it ...</td>\n",
       "      <td>iPad or iPhone App</td>\n",
       "      <td>positive</td>\n",
       "      <td>ive always used camera for my iphone bc it has...</td>\n",
       "      <td>[ive, always, used, camera, for, my, iphone, b...</td>\n",
       "    </tr>\n",
       "    <tr>\n",
       "      <th>3547</th>\n",
       "      <td>Ipad everywhere. #SXSW {link}</td>\n",
       "      <td>iPad</td>\n",
       "      <td>positive</td>\n",
       "      <td>ipad everywhere sxsw link</td>\n",
       "      <td>[ipad, everywhere, sxsw, link]</td>\n",
       "    </tr>\n",
       "  </tbody>\n",
       "</table>\n",
       "<p>3548 rows × 5 columns</p>\n",
       "</div>"
      ],
      "text/plain": [
       "                                             tweet_text  \\\n",
       "0     .@wesley83 I have a 3G iPhone. After 3 hrs twe...   \n",
       "1     @jessedee Know about @fludapp ? Awesome iPad/i...   \n",
       "2     @swonderlin Can not wait for #iPad 2 also. The...   \n",
       "3     @sxsw I hope this year's festival isn't as cra...   \n",
       "4     @sxtxstate great stuff on Fri #SXSW: Marissa M...   \n",
       "...                                                 ...   \n",
       "3543  @mention your PR guy just convinced me to swit...   \n",
       "3544  &quot;papyrus...sort of like the ipad&quot; - ...   \n",
       "3545  Diller says Google TV &quot;might be run over ...   \n",
       "3546  I've always used Camera+ for my iPhone b/c it ...   \n",
       "3547                      Ipad everywhere. #SXSW {link}   \n",
       "\n",
       "                              subject sentiment  \\\n",
       "0                              iPhone  negative   \n",
       "1                  iPad or iPhone App  positive   \n",
       "2                                iPad  positive   \n",
       "3                  iPad or iPhone App  negative   \n",
       "4                              Google  positive   \n",
       "...                               ...       ...   \n",
       "3543                           iPhone  positive   \n",
       "3544                             iPad  positive   \n",
       "3545  Other Google product or service  negative   \n",
       "3546               iPad or iPhone App  positive   \n",
       "3547                             iPad  positive   \n",
       "\n",
       "                                           cleaned_text  \\\n",
       "0     @wesley i have a g iphone after  hrs tweeting ...   \n",
       "1     @jessedee know about @fludapp  awesome ipadiph...   \n",
       "2     @swonderlin can not wait for ipad  also they s...   \n",
       "3     @sxsw i hope this years festival isnt as crash...   \n",
       "4     @sxtxstate great stuff on fri sxsw marissa may...   \n",
       "...                                                 ...   \n",
       "3543  @mention your pr guy just convinced me to swit...   \n",
       "3544  quotpapyrussort of like the ipadquot  nice lol...   \n",
       "3545  diller says google tv quotmight be run over by...   \n",
       "3546  ive always used camera for my iphone bc it has...   \n",
       "3547                          ipad everywhere sxsw link   \n",
       "\n",
       "                                         tokenized_text  \n",
       "0     [i, have, a, g, iphone, after, hrs, tweeting, ...  \n",
       "1     [know, about, awesome, ipadiphone, app, that, ...  \n",
       "2     [can, not, wait, for, ipad, also, they, should...  \n",
       "3     [i, hope, this, years, festival, isnt, as, cra...  \n",
       "4     [great, stuff, on, fri, sxsw, marissa, mayer, ...  \n",
       "...                                                 ...  \n",
       "3543  [your, pr, guy, just, convinced, me, to, switc...  \n",
       "3544  [quotpapyrussort, of, like, the, ipadquot, nic...  \n",
       "3545  [diller, says, google, tv, quotmight, be, run,...  \n",
       "3546  [ive, always, used, camera, for, my, iphone, b...  \n",
       "3547                     [ipad, everywhere, sxsw, link]  \n",
       "\n",
       "[3548 rows x 5 columns]"
      ]
     },
     "execution_count": 18,
     "metadata": {},
     "output_type": "execute_result"
    }
   ],
   "source": [
    "# reset the index and review tokenized text\n",
    "df = df.reset_index(drop=True)\n",
    "df"
   ]
  },
  {
   "cell_type": "code",
   "execution_count": 19,
   "metadata": {},
   "outputs": [],
   "source": [
    "# remove English language stopwords and add revisions to new column\n",
    "stopwords_list = stopwords.words('english')\n",
    "df['stopped_tokens'] = remove_words(df['tokenized_text'], stopwords_list)"
   ]
  },
  {
   "cell_type": "code",
   "execution_count": 20,
   "metadata": {},
   "outputs": [
    {
     "data": {
      "text/html": [
       "<div>\n",
       "<style scoped>\n",
       "    .dataframe tbody tr th:only-of-type {\n",
       "        vertical-align: middle;\n",
       "    }\n",
       "\n",
       "    .dataframe tbody tr th {\n",
       "        vertical-align: top;\n",
       "    }\n",
       "\n",
       "    .dataframe thead th {\n",
       "        text-align: right;\n",
       "    }\n",
       "</style>\n",
       "<table border=\"1\" class=\"dataframe\">\n",
       "  <thead>\n",
       "    <tr style=\"text-align: right;\">\n",
       "      <th></th>\n",
       "      <th>tweet_text</th>\n",
       "      <th>subject</th>\n",
       "      <th>sentiment</th>\n",
       "      <th>cleaned_text</th>\n",
       "      <th>tokenized_text</th>\n",
       "      <th>stopped_tokens</th>\n",
       "    </tr>\n",
       "  </thead>\n",
       "  <tbody>\n",
       "    <tr>\n",
       "      <th>0</th>\n",
       "      <td>.@wesley83 I have a 3G iPhone. After 3 hrs twe...</td>\n",
       "      <td>iPhone</td>\n",
       "      <td>negative</td>\n",
       "      <td>@wesley i have a g iphone after  hrs tweeting ...</td>\n",
       "      <td>[i, have, a, g, iphone, after, hrs, tweeting, ...</td>\n",
       "      <td>[g, iphone, hrs, tweeting, riseaustin, dead, n...</td>\n",
       "    </tr>\n",
       "    <tr>\n",
       "      <th>1</th>\n",
       "      <td>@jessedee Know about @fludapp ? Awesome iPad/i...</td>\n",
       "      <td>iPad or iPhone App</td>\n",
       "      <td>positive</td>\n",
       "      <td>@jessedee know about @fludapp  awesome ipadiph...</td>\n",
       "      <td>[know, about, awesome, ipadiphone, app, that, ...</td>\n",
       "      <td>[know, awesome, ipadiphone, app, youll, likely...</td>\n",
       "    </tr>\n",
       "    <tr>\n",
       "      <th>2</th>\n",
       "      <td>@swonderlin Can not wait for #iPad 2 also. The...</td>\n",
       "      <td>iPad</td>\n",
       "      <td>positive</td>\n",
       "      <td>@swonderlin can not wait for ipad  also they s...</td>\n",
       "      <td>[can, not, wait, for, ipad, also, they, should...</td>\n",
       "      <td>[wait, ipad, also, sale, sxsw]</td>\n",
       "    </tr>\n",
       "    <tr>\n",
       "      <th>3</th>\n",
       "      <td>@sxsw I hope this year's festival isn't as cra...</td>\n",
       "      <td>iPad or iPhone App</td>\n",
       "      <td>negative</td>\n",
       "      <td>@sxsw i hope this years festival isnt as crash...</td>\n",
       "      <td>[i, hope, this, years, festival, isnt, as, cra...</td>\n",
       "      <td>[hope, years, festival, isnt, crashy, years, i...</td>\n",
       "    </tr>\n",
       "    <tr>\n",
       "      <th>4</th>\n",
       "      <td>@sxtxstate great stuff on Fri #SXSW: Marissa M...</td>\n",
       "      <td>Google</td>\n",
       "      <td>positive</td>\n",
       "      <td>@sxtxstate great stuff on fri sxsw marissa may...</td>\n",
       "      <td>[great, stuff, on, fri, sxsw, marissa, mayer, ...</td>\n",
       "      <td>[great, stuff, fri, sxsw, marissa, mayer, goog...</td>\n",
       "    </tr>\n",
       "  </tbody>\n",
       "</table>\n",
       "</div>"
      ],
      "text/plain": [
       "                                          tweet_text             subject  \\\n",
       "0  .@wesley83 I have a 3G iPhone. After 3 hrs twe...              iPhone   \n",
       "1  @jessedee Know about @fludapp ? Awesome iPad/i...  iPad or iPhone App   \n",
       "2  @swonderlin Can not wait for #iPad 2 also. The...                iPad   \n",
       "3  @sxsw I hope this year's festival isn't as cra...  iPad or iPhone App   \n",
       "4  @sxtxstate great stuff on Fri #SXSW: Marissa M...              Google   \n",
       "\n",
       "  sentiment                                       cleaned_text  \\\n",
       "0  negative  @wesley i have a g iphone after  hrs tweeting ...   \n",
       "1  positive  @jessedee know about @fludapp  awesome ipadiph...   \n",
       "2  positive  @swonderlin can not wait for ipad  also they s...   \n",
       "3  negative  @sxsw i hope this years festival isnt as crash...   \n",
       "4  positive  @sxtxstate great stuff on fri sxsw marissa may...   \n",
       "\n",
       "                                      tokenized_text  \\\n",
       "0  [i, have, a, g, iphone, after, hrs, tweeting, ...   \n",
       "1  [know, about, awesome, ipadiphone, app, that, ...   \n",
       "2  [can, not, wait, for, ipad, also, they, should...   \n",
       "3  [i, hope, this, years, festival, isnt, as, cra...   \n",
       "4  [great, stuff, on, fri, sxsw, marissa, mayer, ...   \n",
       "\n",
       "                                      stopped_tokens  \n",
       "0  [g, iphone, hrs, tweeting, riseaustin, dead, n...  \n",
       "1  [know, awesome, ipadiphone, app, youll, likely...  \n",
       "2                     [wait, ipad, also, sale, sxsw]  \n",
       "3  [hope, years, festival, isnt, crashy, years, i...  \n",
       "4  [great, stuff, fri, sxsw, marissa, mayer, goog...  "
      ]
     },
     "execution_count": 20,
     "metadata": {},
     "output_type": "execute_result"
    }
   ],
   "source": [
    "df.head()"
   ]
  },
  {
   "cell_type": "code",
   "execution_count": 21,
   "metadata": {},
   "outputs": [],
   "source": [
    "# Lemmatize stopped tokens and create new column with lemmed words\n",
    "lemmatizer = WordNetLemmatizer()\n",
    "lemmed_tokens=[]\n",
    "for text in df['stopped_tokens']:\n",
    "    lemmed_tokens.append([lemmatizer.lemmatize(w) for w in text]) \n",
    "df['lemmed_tokens'] = lemmed_tokens"
   ]
  },
  {
   "cell_type": "code",
   "execution_count": 22,
   "metadata": {},
   "outputs": [
    {
     "data": {
      "text/html": [
       "<div>\n",
       "<style scoped>\n",
       "    .dataframe tbody tr th:only-of-type {\n",
       "        vertical-align: middle;\n",
       "    }\n",
       "\n",
       "    .dataframe tbody tr th {\n",
       "        vertical-align: top;\n",
       "    }\n",
       "\n",
       "    .dataframe thead th {\n",
       "        text-align: right;\n",
       "    }\n",
       "</style>\n",
       "<table border=\"1\" class=\"dataframe\">\n",
       "  <thead>\n",
       "    <tr style=\"text-align: right;\">\n",
       "      <th></th>\n",
       "      <th>tweet_text</th>\n",
       "      <th>subject</th>\n",
       "      <th>sentiment</th>\n",
       "      <th>cleaned_text</th>\n",
       "      <th>tokenized_text</th>\n",
       "      <th>stopped_tokens</th>\n",
       "      <th>lemmed_tokens</th>\n",
       "    </tr>\n",
       "  </thead>\n",
       "  <tbody>\n",
       "    <tr>\n",
       "      <th>0</th>\n",
       "      <td>.@wesley83 I have a 3G iPhone. After 3 hrs twe...</td>\n",
       "      <td>iPhone</td>\n",
       "      <td>negative</td>\n",
       "      <td>@wesley i have a g iphone after  hrs tweeting ...</td>\n",
       "      <td>[i, have, a, g, iphone, after, hrs, tweeting, ...</td>\n",
       "      <td>[g, iphone, hrs, tweeting, riseaustin, dead, n...</td>\n",
       "      <td>[g, iphone, hr, tweeting, riseaustin, dead, ne...</td>\n",
       "    </tr>\n",
       "    <tr>\n",
       "      <th>1</th>\n",
       "      <td>@jessedee Know about @fludapp ? Awesome iPad/i...</td>\n",
       "      <td>iPad or iPhone App</td>\n",
       "      <td>positive</td>\n",
       "      <td>@jessedee know about @fludapp  awesome ipadiph...</td>\n",
       "      <td>[know, about, awesome, ipadiphone, app, that, ...</td>\n",
       "      <td>[know, awesome, ipadiphone, app, youll, likely...</td>\n",
       "      <td>[know, awesome, ipadiphone, app, youll, likely...</td>\n",
       "    </tr>\n",
       "    <tr>\n",
       "      <th>2</th>\n",
       "      <td>@swonderlin Can not wait for #iPad 2 also. The...</td>\n",
       "      <td>iPad</td>\n",
       "      <td>positive</td>\n",
       "      <td>@swonderlin can not wait for ipad  also they s...</td>\n",
       "      <td>[can, not, wait, for, ipad, also, they, should...</td>\n",
       "      <td>[wait, ipad, also, sale, sxsw]</td>\n",
       "      <td>[wait, ipad, also, sale, sxsw]</td>\n",
       "    </tr>\n",
       "    <tr>\n",
       "      <th>3</th>\n",
       "      <td>@sxsw I hope this year's festival isn't as cra...</td>\n",
       "      <td>iPad or iPhone App</td>\n",
       "      <td>negative</td>\n",
       "      <td>@sxsw i hope this years festival isnt as crash...</td>\n",
       "      <td>[i, hope, this, years, festival, isnt, as, cra...</td>\n",
       "      <td>[hope, years, festival, isnt, crashy, years, i...</td>\n",
       "      <td>[hope, year, festival, isnt, crashy, year, iph...</td>\n",
       "    </tr>\n",
       "    <tr>\n",
       "      <th>4</th>\n",
       "      <td>@sxtxstate great stuff on Fri #SXSW: Marissa M...</td>\n",
       "      <td>Google</td>\n",
       "      <td>positive</td>\n",
       "      <td>@sxtxstate great stuff on fri sxsw marissa may...</td>\n",
       "      <td>[great, stuff, on, fri, sxsw, marissa, mayer, ...</td>\n",
       "      <td>[great, stuff, fri, sxsw, marissa, mayer, goog...</td>\n",
       "      <td>[great, stuff, fri, sxsw, marissa, mayer, goog...</td>\n",
       "    </tr>\n",
       "  </tbody>\n",
       "</table>\n",
       "</div>"
      ],
      "text/plain": [
       "                                          tweet_text             subject  \\\n",
       "0  .@wesley83 I have a 3G iPhone. After 3 hrs twe...              iPhone   \n",
       "1  @jessedee Know about @fludapp ? Awesome iPad/i...  iPad or iPhone App   \n",
       "2  @swonderlin Can not wait for #iPad 2 also. The...                iPad   \n",
       "3  @sxsw I hope this year's festival isn't as cra...  iPad or iPhone App   \n",
       "4  @sxtxstate great stuff on Fri #SXSW: Marissa M...              Google   \n",
       "\n",
       "  sentiment                                       cleaned_text  \\\n",
       "0  negative  @wesley i have a g iphone after  hrs tweeting ...   \n",
       "1  positive  @jessedee know about @fludapp  awesome ipadiph...   \n",
       "2  positive  @swonderlin can not wait for ipad  also they s...   \n",
       "3  negative  @sxsw i hope this years festival isnt as crash...   \n",
       "4  positive  @sxtxstate great stuff on fri sxsw marissa may...   \n",
       "\n",
       "                                      tokenized_text  \\\n",
       "0  [i, have, a, g, iphone, after, hrs, tweeting, ...   \n",
       "1  [know, about, awesome, ipadiphone, app, that, ...   \n",
       "2  [can, not, wait, for, ipad, also, they, should...   \n",
       "3  [i, hope, this, years, festival, isnt, as, cra...   \n",
       "4  [great, stuff, on, fri, sxsw, marissa, mayer, ...   \n",
       "\n",
       "                                      stopped_tokens  \\\n",
       "0  [g, iphone, hrs, tweeting, riseaustin, dead, n...   \n",
       "1  [know, awesome, ipadiphone, app, youll, likely...   \n",
       "2                     [wait, ipad, also, sale, sxsw]   \n",
       "3  [hope, years, festival, isnt, crashy, years, i...   \n",
       "4  [great, stuff, fri, sxsw, marissa, mayer, goog...   \n",
       "\n",
       "                                       lemmed_tokens  \n",
       "0  [g, iphone, hr, tweeting, riseaustin, dead, ne...  \n",
       "1  [know, awesome, ipadiphone, app, youll, likely...  \n",
       "2                     [wait, ipad, also, sale, sxsw]  \n",
       "3  [hope, year, festival, isnt, crashy, year, iph...  \n",
       "4  [great, stuff, fri, sxsw, marissa, mayer, goog...  "
      ]
     },
     "execution_count": 22,
     "metadata": {},
     "output_type": "execute_result"
    }
   ],
   "source": [
    "df.head()"
   ]
  },
  {
   "cell_type": "code",
   "execution_count": 23,
   "metadata": {},
   "outputs": [],
   "source": [
    "# Create object of test and train data \n",
    "X = df['lemmed_tokens']\n",
    "y = df['sentiment']\n",
    "class Xy:\n",
    "    X_train, X_test, y_train, y_test = train_test_split(X, y, random_state = 42, test_size = 0.2)"
   ]
  },
  {
   "cell_type": "code",
   "execution_count": 24,
   "metadata": {},
   "outputs": [],
   "source": [
    "# Remove single words from current dataframe\n",
    "Xy.X_train = remove_singles(Xy.X_train)\n",
    "Xy.X_test = remove_singles(Xy.X_test)"
   ]
  },
  {
   "cell_type": "code",
   "execution_count": 25,
   "metadata": {},
   "outputs": [],
   "source": [
    "# Created vectorized datset of both train and test data\n",
    "vec = CountVectorizer(ngram_range=(1,2))\n",
    "\n",
    "# fit vectorizer on training data\n",
    "X_train_transformed = vec.fit_transform(Xy.X_train)\n",
    "Xy.X_train = pd.DataFrame(X_train_transformed.toarray(), columns = vec.get_feature_names())\n",
    "\n",
    "# fit vectorizer on test data using train transform\n",
    "X_test_transformed = vec.transform(Xy.X_test)\n",
    "Xy.X_test = pd.DataFrame(X_test_transformed.toarray(), columns = vec.get_feature_names())"
   ]
  },
  {
   "cell_type": "markdown",
   "metadata": {},
   "source": [
    "## Model 1 - Logistic Regression\n",
    "Using the vectorized data, first try to see how Logistic Regression performs. "
   ]
  },
  {
   "cell_type": "code",
   "execution_count": 26,
   "metadata": {},
   "outputs": [
    {
     "name": "stdout",
     "output_type": "stream",
     "text": [
      "Training Accuracy: 99.05%\n",
      "Training Accuracy: 86.48%\n",
      "Training F1 Score: 96.94%\n",
      "Training F1 Score: 36.84%\n",
      "Confusion Matrix for test data\n"
     ]
    },
    {
     "data": {
      "image/png": "[encoded data removed]",
      "text/plain": [
       "<Figure size 432x288 with 2 Axes>"
      ]
     },
     "metadata": {
      "needs_background": "light"
     },
     "output_type": "display_data"
    }
   ],
   "source": [
    "# Initiate the model\n",
    "logreg = LogisticRegression(random_state=42)\n",
    "\n",
    "# Fit the model and get predictions\n",
    "lr_Xy = train_and_predict(logreg, Xy)\n",
    "\n",
    "# Evaluate model\n",
    "model_scores(logreg, lr_Xy)"
   ]
  },
  {
   "cell_type": "markdown",
   "metadata": {},
   "source": [
    "Summary: There is a wide range between the train and test accuracy scores, indicating overfitting. The neutral sentiments are predicted well, however the positive sentiment was only slightly better than guessing, and the negative sentiment was not much better than guessing. "
   ]
  },
  {
   "cell_type": "markdown",
   "metadata": {},
   "source": [
    "## Model 1b - Logistic Regression - Optimized\n",
    "\n",
    "In this iteration, I want to try to get a better performance from the logistic regression model."
   ]
  },
  {
   "cell_type": "code",
   "execution_count": 27,
   "metadata": {},
   "outputs": [
    {
     "name": "stdout",
     "output_type": "stream",
     "text": [
      "Grid Search found the following optimal parameters: \n",
      "C: 10\n",
      "class_weight: 'None'\n",
      "max_iter: 200\n"
     ]
    }
   ],
   "source": [
    "# Get best parameters via grid search\n",
    "params_lr = {\n",
    "    'C':[10, 1, .1, .01],\n",
    "    'class_weight':['None', 'balanced'],\n",
    "    'max_iter':[200]\n",
    "    }\n",
    "(lr_gs, lr_gs_Xy) = run_grid_search(params_lr, logreg, Xy)"
   ]
  },
  {
   "cell_type": "code",
   "execution_count": 28,
   "metadata": {},
   "outputs": [
    {
     "name": "stdout",
     "output_type": "stream",
     "text": [
      "Training Accuracy: 99.86%\n",
      "Training Accuracy: 87.32%\n",
      "Training F1 Score: 99.56%\n",
      "Training F1 Score: 45.12%\n",
      "Confusion Matrix for test data\n"
     ]
    },
    {
     "data": {
      "image/png": "[encoded data removed]",
      "text/plain": [
       "<Figure size 432x288 with 2 Axes>"
      ]
     },
     "metadata": {
      "needs_background": "light"
     },
     "output_type": "display_data"
    }
   ],
   "source": [
    "# Evaluate model\n",
    "model_scores(lr_gs, lr_gs_Xy)"
   ]
  },
  {
   "cell_type": "markdown",
   "metadata": {},
   "source": [
    "Summary: Overfitting issues solved and neutral and positive sentiment performing better, however negative sentiment performs the worst."
   ]
  },
  {
   "cell_type": "markdown",
   "metadata": {},
   "source": [
    "## Model 2 - Decision Tree Classifier\n",
    "\n",
    "Changing gears, I wanted to see how a decision tree classifier would perform."
   ]
  },
  {
   "cell_type": "code",
   "execution_count": null,
   "metadata": {},
   "outputs": [],
   "source": [
    "# Initiate the model\n",
    "dt = DecisionTreeClassifier(random_state=42)  \n",
    "\n",
    "# Fit the model and get predictions\n",
    "dt_Xy = train_and_predict(dt, Xy)\n",
    "\n",
    "# Evaluate model\n",
    "model_scores(dt, dt_Xy)"
   ]
  },
  {
   "cell_type": "markdown",
   "metadata": {},
   "source": [
    "## Model 2b - Decision Tree Classifier Grid Search"
   ]
  },
  {
   "cell_type": "code",
   "execution_count": null,
   "metadata": {},
   "outputs": [],
   "source": [
    "# define parameters to search\n",
    "params_dt = {\n",
    "    'criterion':['gini', 'entropy'],\n",
    "    'max_depth':range(2,10),\n",
    "    'min_samples_split':range(2,10),\n",
    "    'min_samples_leaf':range(2,5)\n",
    "    }\n",
    "\n",
    "# run grid search\n",
    "(dt_gs, dt_gs_Xy) = run_grid_search(params_dt, dt, Xy)\n",
    "\n",
    "# Evaluate model\n",
    "model_scores(dt_gs, dt_gs_Xy)"
   ]
  },
  {
   "cell_type": "markdown",
   "metadata": {},
   "source": [
    "Summary: Like Model 1, there is a wide range between the train and test accuracy scores, indicating overfitting. The neutral and positive sentiments are predicted adequtly, but the negative sentiment was worse than guessing. "
   ]
  },
  {
   "cell_type": "markdown",
   "metadata": {},
   "source": [
    "## Model 3 - XG Boost\n",
    "\n",
    "Trying out a gradient boosted model."
   ]
  },
  {
   "cell_type": "code",
   "execution_count": null,
   "metadata": {},
   "outputs": [],
   "source": [
    "# Initiate the model\n",
    "xgb = XGBClassifier(random_state=42)\n",
    "\n",
    "# Fit the model and get predictions\n",
    "xgb_Xy = train_and_predict(xgb, Xy)\n",
    "\n",
    "# Evaluate model\n",
    "model_scores(xgb, xgb_Xy)"
   ]
  },
  {
   "cell_type": "markdown",
   "metadata": {},
   "source": [
    "Summary: Performs slightly better than Model 1B, but negative class heavily sacrificed."
   ]
  },
  {
   "cell_type": "markdown",
   "metadata": {},
   "source": [
    "## Model 3b - Grid Search with XG Boost\n",
    "\n",
    "Use a grid search in connection with XG Boost to get better performance."
   ]
  },
  {
   "cell_type": "code",
   "execution_count": null,
   "metadata": {},
   "outputs": [],
   "source": [
    "# define parameters to search\n",
    "xgb_params = {\n",
    "    'learning_rate': [0.1, 0.2],\n",
    "    'max_depth': [4],\n",
    "    'min_child_weight': [1, 2],\n",
    "    'subsample': [0.7, 0.8],\n",
    "    'n_estimators': [10, 20],\n",
    "    'scale_pos_weight': [6] # impose greater penalties for errors on the minor class, sum(negative instances) / sum(positive instances)\n",
    "    }\n",
    "\n",
    "# run grid search\n",
    "(xgb_gs, xgb_gs_Xy) = run_grid_search(xgb_params, xgb, Xy)\n",
    "\n",
    "# Evaluate model\n",
    "model_scores(xgb_gs, xgb_gs_Xy)"
   ]
  },
  {
   "cell_type": "markdown",
   "metadata": {},
   "source": [
    "Summary: Best performance in training vs. validation accuracy and confusion matrix, except for the negative class."
   ]
  }
 ],
 "metadata": {
  "kernelspec": {
   "display_name": "learn-env",
   "language": "python",
   "name": "learn-env"
  },
  "language_info": {
   "codemirror_mode": {
    "name": "ipython",
    "version": 3
   },
   "file_extension": ".py",
   "mimetype": "text/x-python",
   "name": "python",
   "nbconvert_exporter": "python",
   "pygments_lexer": "ipython3",
   "version": "3.6.9"
  }
 },
 "nbformat": 4,
 "nbformat_minor": 4
}
